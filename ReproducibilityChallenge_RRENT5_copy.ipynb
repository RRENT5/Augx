{
  "cells": [
    {
      "cell_type": "markdown",
      "metadata": {
        "id": "view-in-github",
        "colab_type": "text"
      },
      "source": [
        "<a href=\"https://colab.research.google.com/github/RRENT5/Augx/blob/Colab_test/ReproducibilityChallenge_RRENT5_copy.ipynb\" target=\"_parent\"><img src=\"https://colab.research.google.com/assets/colab-badge.svg\" alt=\"Open In Colab\"/></a>"
      ]
    },
    {
      "cell_type": "markdown",
      "source": [
        "To do list:\n",
        "\n",
        "    Add aug_list = augmentations.augmentations_all\n",
        "    Removing data visualization?\n",
        "    **Done** Delete from cifar 10 and 100 if they agree: dataset=\"cifar100\"\n",
        "                                                model=\"net\"\n",
        "                                                learning_rate=0.1\n",
        "                                                momentum=0.9\n",
        "                                                decay=0.0001\n",
        "                                                no_epochs=20\n",
        "                                                print_frequency=100\n",
        "    Add cifar100-C? *Done, let's see how it works in terms of time.*"
      ],
      "metadata": {
        "id": "3sUQ2Sk8Zdkp"
      }
    },
    {
      "cell_type": "markdown",
      "source": [
        "# <center>  **PROJECT - REPRODUCIBILITY CHALLENGE** <center/>\n",
        "\n",
        "The following code aims to reproduce part of the results on the published paper *AugMix: A simple data processing method to improve robustness and uncertainty*, reusing their methods and choosing the same models to train and test."
      ],
      "metadata": {
        "id": "A64jYtRJHll4"
      }
    },
    {
      "cell_type": "code",
      "execution_count": null,
      "metadata": {
        "id": "Ez_dRxUlMHaW"
      },
      "outputs": [],
      "source": [
        "import numpy as np\n",
        "import torch\n",
        "import torchvision\n",
        "import PIL\n",
        "import math\n",
        "import time\n",
        "import os\n",
        "import shutil\n",
        "\n",
        "import torch.nn as nn\n",
        "import torchvision.transforms as transforms\n",
        "import torch.nn.functional as F\n"
      ]
    },
    {
      "cell_type": "code",
      "source": [
        "args = {\n",
        "\n",
        "    'epochs': 5,\n",
        "    'learning-rate': 0.1,\n",
        "    'batch_size': 128,\n",
        "    'eval_batch_size': 1000,\n",
        "    'momentum': 0.9,\n",
        "    'decay': 0.0005,\n",
        "\n",
        "    # WRN Options\n",
        "    'layers': 40,\n",
        "    'widen_factor': 2,\n",
        "    'droprate': 0.0,\n",
        "\n",
        "    #AugMix Options\n",
        "    'mixture_width': 3,\n",
        "    'mixture_depth': -1,\n",
        "    'aug_severity': 3,\n",
        "    'no_jsd': True,\n",
        "    'all_ops': True,\n",
        "\n",
        "    # Checkpointing Options\n",
        "    'save': './snapshots',\n",
        "    'resume': '',\n",
        "    'evaluate': True,\n",
        "    'print_freq': 100,\n",
        "\n",
        "    # Acceleration\n",
        "    'num_workers': 2\n",
        "}\n",
        "\n",
        "CORRUPTIONS = [\n",
        "    'gaussian_noise', 'shot_noise', 'impulse_noise', 'defocus_blur',\n",
        "    'glass_blur', 'motion_blur', 'zoom_blur', 'snow', 'frost', 'fog',\n",
        "    'brightness', 'contrast', 'elastic_transform', 'pixelate',\n",
        "    'jpeg_compression'\n",
        "]"
      ],
      "metadata": {
        "id": "G4XtbRaZHdj6"
      },
      "execution_count": null,
      "outputs": []
    },
    {
      "cell_type": "markdown",
      "metadata": {
        "id": "17_P67QoeFqn"
      },
      "source": [
        "The following code block includes the definitions of the **base augmentation operators**"
      ]
    },
    {
      "cell_type": "code",
      "execution_count": null,
      "metadata": {
        "id": "e1ptGO3qeBmP",
        "colab": {
          "base_uri": "https://localhost:8080/"
        },
        "outputId": "6ace50b4-e34c-4e75-82a8-a6ca3b30ae82"
      },
      "outputs": [
        {
          "output_type": "stream",
          "name": "stdout",
          "text": [
            "Writing augmentations.py\n"
          ]
        }
      ],
      "source": [
        "%%writefile augmentations.py\n",
        "\n",
        "# Copyright 2019 Google LLC\n",
        "#\n",
        "# Licensed under the Apache License, Version 2.0 (the \"License\");\n",
        "# you may not use this file except in compliance with the License.\n",
        "# You may obtain a copy of the License at\n",
        "#\n",
        "#     https://www.apache.org/licenses/LICENSE-2.0\n",
        "#\n",
        "# Unless required by applicable law or agreed to in writing, software\n",
        "# distributed under the License is distributed on an \"AS IS\" BASIS,\n",
        "# WITHOUT WARRANTIES OR CONDITIONS OF ANY KIND, either express or implied.\n",
        "# See the License for the specific language governing permissions and\n",
        "# limitations under the License.\n",
        "# ==============================================================================\n",
        "\n",
        "\"\"\"Base augmentations operators.\"\"\"\n",
        "\n",
        "import numpy as np\n",
        "from PIL import Image, ImageOps, ImageEnhance\n",
        "\n",
        "# ImageNet code should change this value\n",
        "IMAGE_SIZE = 32\n",
        "\n",
        "\n",
        "def int_parameter(level, maxval):\n",
        "  \"\"\"Helper function to scale `val` between 0 and maxval .\n",
        "  Args:\n",
        "    level: Level of the operation that will be between [0, `PARAMETER_MAX`].\n",
        "    maxval: Maximum value that the operation can have. This will be scaled to\n",
        "      level/PARAMETER_MAX.\n",
        "  Returns:\n",
        "    An int that results from scaling `maxval` according to `level`.\n",
        "  \"\"\"\n",
        "  return int(level * maxval / 10)\n",
        "\n",
        "\n",
        "def float_parameter(level, maxval):\n",
        "  \"\"\"Helper function to scale `val` between 0 and maxval.\n",
        "  Args:\n",
        "    level: Level of the operation that will be between [0, `PARAMETER_MAX`].\n",
        "    maxval: Maximum value that the operation can have. This will be scaled to\n",
        "      level/PARAMETER_MAX.\n",
        "  Returns:\n",
        "    A float that results from scaling `maxval` according to `level`.\n",
        "  \"\"\"\n",
        "  return float(level) * maxval / 10.\n",
        "\n",
        "\n",
        "def sample_level(n):\n",
        "  return np.random.uniform(low=0.1, high=n)\n",
        "\n",
        "\n",
        "def autocontrast(pil_img, _):\n",
        "  return ImageOps.autocontrast(pil_img)\n",
        "\n",
        "\n",
        "def equalize(pil_img, _):\n",
        "  return ImageOps.equalize(pil_img)\n",
        "\n",
        "\n",
        "def posterize(pil_img, level):\n",
        "  level = int_parameter(sample_level(level), 4)\n",
        "  return ImageOps.posterize(pil_img, 4 - level)\n",
        "\n",
        "\n",
        "def rotate(pil_img, level):\n",
        "  degrees = int_parameter(sample_level(level), 30)\n",
        "  if np.random.uniform() > 0.5:\n",
        "    degrees = -degrees\n",
        "  return pil_img.rotate(degrees, resample=Image.BILINEAR)\n",
        "\n",
        "\n",
        "def solarize(pil_img, level):\n",
        "  level = int_parameter(sample_level(level), 256)\n",
        "  return ImageOps.solarize(pil_img, 256 - level)\n",
        "\n",
        "\n",
        "def shear_x(pil_img, level):\n",
        "  level = float_parameter(sample_level(level), 0.3)\n",
        "  if np.random.uniform() > 0.5:\n",
        "    level = -level\n",
        "  return pil_img.transform((IMAGE_SIZE, IMAGE_SIZE),\n",
        "                           Image.AFFINE, (1, level, 0, 0, 1, 0),\n",
        "                           resample=Image.BILINEAR)\n",
        "\n",
        "\n",
        "def shear_y(pil_img, level):\n",
        "  level = float_parameter(sample_level(level), 0.3)\n",
        "  if np.random.uniform() > 0.5:\n",
        "    level = -level\n",
        "  return pil_img.transform((IMAGE_SIZE, IMAGE_SIZE),\n",
        "                           Image.AFFINE, (1, 0, 0, level, 1, 0),\n",
        "                           resample=Image.BILINEAR)\n",
        "\n",
        "\n",
        "def translate_x(pil_img, level):\n",
        "  level = int_parameter(sample_level(level), IMAGE_SIZE / 3)\n",
        "  if np.random.random() > 0.5:\n",
        "    level = -level\n",
        "  return pil_img.transform((IMAGE_SIZE, IMAGE_SIZE),\n",
        "                           Image.AFFINE, (1, 0, level, 0, 1, 0),\n",
        "                           resample=Image.BILINEAR)\n",
        "\n",
        "\n",
        "def translate_y(pil_img, level):\n",
        "  level = int_parameter(sample_level(level), IMAGE_SIZE / 3)\n",
        "  if np.random.random() > 0.5:\n",
        "    level = -level\n",
        "  return pil_img.transform((IMAGE_SIZE, IMAGE_SIZE),\n",
        "                           Image.AFFINE, (1, 0, 0, 0, 1, level),\n",
        "                           resample=Image.BILINEAR)\n",
        "\n",
        "\n",
        "# operation that overlaps with ImageNet-C's test set\n",
        "def color(pil_img, level):\n",
        "    level = float_parameter(sample_level(level), 1.8) + 0.1\n",
        "    return ImageEnhance.Color(pil_img).enhance(level)\n",
        "\n",
        "\n",
        "# operation that overlaps with ImageNet-C's test set\n",
        "def contrast(pil_img, level):\n",
        "    level = float_parameter(sample_level(level), 1.8) + 0.1\n",
        "    return ImageEnhance.Contrast(pil_img).enhance(level)\n",
        "\n",
        "\n",
        "# operation that overlaps with ImageNet-C's test set\n",
        "def brightness(pil_img, level):\n",
        "    level = float_parameter(sample_level(level), 1.8) + 0.1\n",
        "    return ImageEnhance.Brightness(pil_img).enhance(level)\n",
        "\n",
        "\n",
        "# operation that overlaps with ImageNet-C's test set\n",
        "def sharpness(pil_img, level):\n",
        "    level = float_parameter(sample_level(level), 1.8) + 0.1\n",
        "    return ImageEnhance.Sharpness(pil_img).enhance(level)\n",
        "\n",
        "\n",
        "augmentations = [\n",
        "    autocontrast, equalize, posterize, rotate, solarize, shear_x, shear_y,\n",
        "    translate_x, translate_y\n",
        "]\n",
        "\n",
        "augmentations_all = [\n",
        "    autocontrast, equalize, posterize, rotate, solarize, shear_x, shear_y,\n",
        "    translate_x, translate_y, color, contrast, brightness, sharpness\n",
        "]"
      ]
    },
    {
      "cell_type": "markdown",
      "metadata": {
        "id": "-bgGqTODeNOm"
      },
      "source": [
        "The following code block includes the implementation of the **AugMix method**"
      ]
    },
    {
      "cell_type": "code",
      "execution_count": null,
      "metadata": {
        "id": "gyCMI4XBd23K"
      },
      "outputs": [],
      "source": [
        "#%%writefile augment_and_mix.py\n",
        "\n",
        "# Copyright 2019 Google LLC\n",
        "#\n",
        "# Licensed under the Apache License, Version 2.0 (the \"License\");\n",
        "# you may not use this file except in compliance with the License.\n",
        "# You may obtain a copy of the License at\n",
        "#\n",
        "#     https://www.apache.org/licenses/LICENSE-2.0\n",
        "#\n",
        "# Unless required by applicable law or agreed to in writing, software\n",
        "# distributed under the License is distributed on an \"AS IS\" BASIS,\n",
        "# WITHOUT WARRANTIES OR CONDITIONS OF ANY KIND, either express or implied.\n",
        "# See the License for the specific language governing permissions and\n",
        "# limitations under the License.\n",
        "# ==============================================================================\n",
        "\n",
        "\"\"\"Reference implementation of AugMix's data augmentation method in numpy.\"\"\"\n",
        "\n",
        "import augmentations\n",
        "\n",
        "# CIFAR-10 constants\n",
        "MEAN = [0.4914, 0.4822, 0.4465]\n",
        "STD = [0.2023, 0.1994, 0.2010]\n",
        "\n",
        "\n",
        "def normalize(image):\n",
        "  \"\"\"Normalize input image channel-wise to zero mean and unit variance.\"\"\"\n",
        "  image = image.transpose(2, 0, 1)  # Switch to channel-first\n",
        "  mean, std = np.array(MEAN), np.array(STD)\n",
        "  image = (image - mean[:, None, None]) / std[:, None, None]\n",
        "  return image.transpose(1, 2, 0)\n",
        "\n",
        "\n",
        "def apply_op(image, op, severity):\n",
        "  image = np.clip(image * 255., 0, 255).astype(np.uint8)\n",
        "  pil_img = Image.fromarray(image)  # Convert to PIL.Image\n",
        "  pil_img = op(pil_img, severity)\n",
        "  return np.asarray(pil_img) / 255.\n",
        "\n",
        "\n",
        "def augment_and_mix(image, severity=3, width=3, depth=-1, alpha=1.):\n",
        "  \"\"\"Perform AugMix augmentations and compute mixture.\n",
        "\n",
        "  Args:\n",
        "    image: Raw input image as float32 np.ndarray of shape (h, w, c)\n",
        "    severity: Severity of underlying augmentation operators (between 1 to 10).\n",
        "    width: Width of augmentation chain\n",
        "    depth: Depth of augmentation chain. -1 enables stochastic depth uniformly\n",
        "      from [1, 3]\n",
        "    alpha: Probability coefficient for Beta and Dirichlet distributions.\n",
        "\n",
        "  Returns:\n",
        "    mixed: Augmented and mixed image.\n",
        "  \"\"\"\n",
        "  ws = np.float32(\n",
        "      np.random.dirichlet([alpha] * width))\n",
        "  m = np.float32(np.random.beta(alpha, alpha))\n",
        "\n",
        "  mix = np.zeros_like(image)\n",
        "  for i in range(width):\n",
        "    image_aug = image.copy()\n",
        "    d = depth if depth > 0 else np.random.randint(1, 4)\n",
        "    for _ in range(d):\n",
        "      op = np.random.choice(augmentations.augmentations)\n",
        "      #op = np.random.choice(augmentations)\n",
        "      image_aug = apply_op(image_aug, op, severity)\n",
        "    # Preprocessing commutes since all coefficients are convex\n",
        "    mix += ws[i] * normalize(image_aug)\n",
        "\n",
        "  mixed = (1 - m) * normalize(image) + m * mix\n",
        "  return mixed"
      ]
    },
    {
      "cell_type": "code",
      "execution_count": null,
      "metadata": {
        "id": "QbLTzqWafYuA"
      },
      "outputs": [],
      "source": [
        "# Copyright 2019 Google LLC\n",
        "#\n",
        "# Licensed under the Apache License, Version 2.0 (the \"License\");\n",
        "# you may not use this file except in compliance with the License.\n",
        "# You may obtain a copy of the License at\n",
        "#\n",
        "#     https://www.apache.org/licenses/LICENSE-2.0\n",
        "#\n",
        "# Unless required by applicable law or agreed to in writing, software\n",
        "# distributed under the License is distributed on an \"AS IS\" BASIS,\n",
        "# WITHOUT WARRANTIES OR CONDITIONS OF ANY KIND, either express or implied.\n",
        "# See the License for the specific language governing permissions and\n",
        "# limitations under the License.\n",
        "# ==============================================================================\n",
        "\n",
        "def aug(image, preprocess):\n",
        "  \"\"\"Perform AugMix augmentations and compute mixture.\n",
        "  Args:\n",
        "    image: PIL.Image input image\n",
        "    preprocess: Preprocessing function which should return a torch tensor.\n",
        "  Returns:\n",
        "    mixed: Augmented and mixed image.\n",
        "  \"\"\"\n",
        "  aug_list = augmentations.augmentations\n",
        "  #aug_list = augmentations\n",
        "  #if args.all_ops:\n",
        "  #  aug_list = augmentations.augmentations_all\n",
        "\n",
        "  ws = np.float32(np.random.dirichlet([1] * args['mixture_width']))\n",
        "  m = np.float32(np.random.beta(1, 1))\n",
        "\n",
        "  mix = torch.zeros_like(preprocess(image))\n",
        "  for i in range(args['mixture_width']):\n",
        "    image_aug = image.copy()\n",
        "    depth = args['mixture_depth'] if args['mixture_depth'] > 0 else np.random.randint(\n",
        "        1, 4)\n",
        "    for _ in range(depth):\n",
        "      op = np.random.choice(aug_list)\n",
        "      image_aug = op(image_aug, args['aug_severity'])\n",
        "    # Preprocessing commutes since all coefficients are convex\n",
        "    mix += ws[i] * preprocess(image_aug)\n",
        "\n",
        "  mixed = (1 - m) * preprocess(image) + m * mix\n",
        "  return mixed\n",
        "\n",
        "\n",
        "class AugMixDataset(torch.utils.data.Dataset):\n",
        "  \"\"\"Dataset wrapper to perform AugMix augmentation.\"\"\"\n",
        "\n",
        "  def __init__(self, dataset, preprocess, no_jsd=True):\n",
        "    self.dataset = dataset\n",
        "    self.preprocess = preprocess\n",
        "    self.no_jsd = no_jsd\n",
        "\n",
        "  def __getitem__(self, i):\n",
        "    x, y = self.dataset[i]\n",
        "    if self.no_jsd:\n",
        "      return aug(x, self.preprocess), y\n",
        "    else:\n",
        "      im_tuple = (self.preprocess(x), aug(x, self.preprocess),\n",
        "                  aug(x, self.preprocess))\n",
        "      return im_tuple, y\n",
        "\n",
        "  def __len__(self):\n",
        "    return len(self.dataset)\n"
      ]
    },
    {
      "cell_type": "markdown",
      "metadata": {
        "id": "x6BBEjZ6eZ5y"
      },
      "source": [
        "***\n",
        "CIFAR-10, CIFAR-100\n",
        "\n",
        "Importing and visualizing data"
      ]
    },
    {
      "cell_type": "code",
      "execution_count": null,
      "metadata": {
        "id": "m9dfhYaJWpXQ",
        "colab": {
          "base_uri": "https://localhost:8080/",
          "height": 202,
          "referenced_widgets": [
            "4eadfbab984d426696c5fd59e2352433",
            "99f3f669c3a8410e9e87dd9bdf911163",
            "6c87d1e3f07c4f77becb17c6d992b5ef",
            "69fed780828741528303fa761e5a1cd9",
            "5f02b4a4784e41b99eecd7a4ba3c2be3",
            "ba2c83e46e1a41c6850c625ef4ac654f",
            "c73a24875f0e49249b618421246849bc",
            "294745fbac3f46abafe9bb2b5063876c",
            "b4d43d534fe64624aa80f3f9c748b013",
            "5e99ecbde03a4345b73a988002ad6a6b",
            "2d3046944be745379b4c822f88d0b48c",
            "1fce79b513de4e2c90bcdca53b69440a",
            "97891b24bbf44bb69cbd21632e835a20",
            "423945aa63f248de8a9c6d1b355e90f8",
            "fc93d6f6a66c445b8e68c3e174f7daac",
            "f968add775f64849978e30a09d5da9f7",
            "b6818e6cee1b4dd6aa4b16a08b780b32",
            "743022c7e64346e3bd046eec1fab0ab2",
            "a15b6badd0d9468ab21e3a6376e64420",
            "9dfd3e5f4c3a4a89a8bbc373d90d94d2",
            "9ac70649c97d4886a8b9918212ea047e",
            "acc7d0b2b2144bd8a5b2161cad8b0303"
          ]
        },
        "outputId": "6e9f1ce3-27a9-4d05-82fa-33b8f7cef7aa"
      },
      "outputs": [
        {
          "output_type": "stream",
          "name": "stdout",
          "text": [
            "Downloading https://www.cs.toronto.edu/~kriz/cifar-10-python.tar.gz to ./data/cifar-10-python.tar.gz\n"
          ]
        },
        {
          "output_type": "display_data",
          "data": {
            "application/vnd.jupyter.widget-view+json": {
              "model_id": "4eadfbab984d426696c5fd59e2352433",
              "version_minor": 0,
              "version_major": 2
            },
            "text/plain": [
              "  0%|          | 0/170498071 [00:00<?, ?it/s]"
            ]
          },
          "metadata": {}
        },
        {
          "output_type": "stream",
          "name": "stdout",
          "text": [
            "Extracting ./data/cifar-10-python.tar.gz to ./data/\n",
            "Files already downloaded and verified\n",
            "Files already downloaded and verified\n",
            "Downloading https://www.cs.toronto.edu/~kriz/cifar-100-python.tar.gz to ./data/cifar-100-python.tar.gz\n"
          ]
        },
        {
          "output_type": "display_data",
          "data": {
            "application/vnd.jupyter.widget-view+json": {
              "model_id": "1fce79b513de4e2c90bcdca53b69440a",
              "version_minor": 0,
              "version_major": 2
            },
            "text/plain": [
              "  0%|          | 0/169001437 [00:00<?, ?it/s]"
            ]
          },
          "metadata": {}
        },
        {
          "output_type": "stream",
          "name": "stdout",
          "text": [
            "Extracting ./data/cifar-100-python.tar.gz to ./data/\n",
            "Files already downloaded and verified\n"
          ]
        }
      ],
      "source": [
        "# Transforms required for AugMix\n",
        "train_transform = transforms.Compose(\n",
        "    [transforms.RandomHorizontalFlip(),\n",
        "    transforms.RandomCrop(32, padding=4),\n",
        "     ])\n",
        "preprocess = transforms.Compose(\n",
        "    [transforms.ToTensor(),\n",
        "    transforms.Normalize([0.5] * 3, [0.5] * 3),\n",
        "     ])\n",
        "test_transform = preprocess\n",
        "\n",
        "\n",
        "# load the train dataset\n",
        "train_dataset_C10 = torchvision.datasets.CIFAR10(\n",
        "    root='./data/', \n",
        "    train=True, \n",
        "    download=True,\n",
        "    transform=train_transform)\n",
        "\n",
        "# load the test dataset\n",
        "test_dataset_C10 = torchvision.datasets.CIFAR10(\n",
        "    root='./data/', \n",
        "    train=False, \n",
        "    download=True,\n",
        "    transform=test_transform)\n",
        "\n",
        "# load the test dataset without AugMix\n",
        "train_dataset_C10_std = torchvision.datasets.CIFAR10(\n",
        "    root='./data/', \n",
        "    train=False, \n",
        "    download=True,\n",
        "    transform=preprocess)\n",
        "\n",
        "# load the train dataset\n",
        "train_dataset_C100 = torchvision.datasets.CIFAR100(\n",
        "    root='./data/', \n",
        "    train=True, \n",
        "    download=True,\n",
        "    transform=train_transform)\n",
        "\n",
        "# load the test dataset\n",
        "test_dataset_C100 = torchvision.datasets.CIFAR100(\n",
        "    root='./data/', \n",
        "    train=False, \n",
        "    download=True,\n",
        "    transform=test_transform)"
      ]
    },
    {
      "cell_type": "code",
      "execution_count": null,
      "metadata": {
        "id": "kNhCZ8F2sLcJ"
      },
      "outputs": [],
      "source": [
        "# Apply AugMix only to train dataset, but not to test dataset\n",
        "train_dataset_C10 = AugMixDataset(train_dataset_C10, preprocess,no_jsd=True)\n",
        "train_dataset_C100 = AugMixDataset(train_dataset_C100, preprocess,no_jsd=True)\n",
        "\n",
        "\n",
        "# define the hyperparameters\n",
        "BATCH_SIZE = args['batch_size']\n",
        "TEST_BATCH_SIZE = args['eval_batch_size']\n",
        "LEARNING_RATE = args['learning-rate']\n",
        "\n",
        "# find out which device is available\n",
        "DEVICE = torch.device(\"cuda\" if torch.cuda.is_available() else \"cpu\")\n",
        "\n",
        "# construct the dataloader for the traininig dataset. \n",
        "# Here we shuffle the data to promote stochasticity.\n",
        "\n",
        "train_dataloader_C10 = torch.utils.data.DataLoader(\n",
        "    dataset=train_dataset_C10,\n",
        "    batch_size=BATCH_SIZE,\n",
        "    shuffle=True,\n",
        "    num_workers=2)\n",
        "\n",
        "test_dataloader_C10 = torch.utils.data.DataLoader(\n",
        "    dataset=test_dataset_C10, \n",
        "    batch_size=TEST_BATCH_SIZE,\n",
        "    shuffle=False, \n",
        "    num_workers=2)\n",
        "\n",
        "# Retain one dataloader without AugMix for comparison\n",
        "train_dataloader_C10_std = torch.utils.data.DataLoader(\n",
        "    dataset=train_dataset_C10_std,\n",
        "    batch_size=BATCH_SIZE,\n",
        "    shuffle=True,\n",
        "    num_workers=2)\n",
        "\n",
        "train_dataloader_C100 = torch.utils.data.DataLoader(\n",
        "    dataset=train_dataset_C100,\n",
        "    batch_size=BATCH_SIZE,\n",
        "    shuffle=True,\n",
        "    num_workers=2)\n",
        "\n",
        "test_dataloader_C100 = torch.utils.data.DataLoader(\n",
        "    dataset=test_dataset_C100, \n",
        "    batch_size=TEST_BATCH_SIZE,\n",
        "    shuffle=False, \n",
        "    num_workers=2)"
      ]
    },
    {
      "cell_type": "markdown",
      "source": [
        "Visualizing CIFAR-10 data"
      ],
      "metadata": {
        "id": "2c1CISvObzum"
      }
    },
    {
      "cell_type": "code",
      "execution_count": null,
      "metadata": {
        "colab": {
          "base_uri": "https://localhost:8080/",
          "height": 303
        },
        "id": "e2mSJGSlfESH",
        "outputId": "c24c7cd8-e081-4cec-e5bb-0896cf21921f"
      },
      "outputs": [
        {
          "output_type": "stream",
          "name": "stderr",
          "text": [
            "Clipping input data to the valid range for imshow with RGB data ([0..1] for floats or [0..255] for integers).\n"
          ]
        },
        {
          "output_type": "stream",
          "name": "stdout",
          "text": [
            "3\n"
          ]
        },
        {
          "output_type": "display_data",
          "data": {
            "image/png": "[encoded data removed]",
            "text/plain": [
              "<Figure size 432x288 with 1 Axes>"
            ]
          },
          "metadata": {
            "needs_background": "light"
          }
        }
      ],
      "source": [
        "import matplotlib.pyplot as plt\n",
        "def show(img):\n",
        "    npimg = img.numpy()\n",
        "    plt.imshow(np.transpose(npimg, (1,2,0)), interpolation='nearest')\n",
        "\n",
        "# Visualize train dataset\n",
        "images_train = next(iter(train_dataloader_C10))[0][:20]\n",
        "print(len(images_train[3]))\n",
        "grid_train = torchvision.utils.make_grid(images_train, nrow=5, padding=10)\n",
        "show(grid_train)\n",
        "\n",
        "# The preprocessing step of the AugMix method causes problems and images are not\n",
        "# displayed anymore for the train dataset"
      ]
    },
    {
      "cell_type": "code",
      "execution_count": null,
      "metadata": {
        "id": "q1fwUT6hhv-L",
        "colab": {
          "base_uri": "https://localhost:8080/",
          "height": 303
        },
        "outputId": "b1556d30-c6a6-481d-9f14-039630c1a87f"
      },
      "outputs": [
        {
          "output_type": "stream",
          "name": "stderr",
          "text": [
            "Clipping input data to the valid range for imshow with RGB data ([0..1] for floats or [0..255] for integers).\n"
          ]
        },
        {
          "output_type": "stream",
          "name": "stdout",
          "text": [
            "20\n"
          ]
        },
        {
          "output_type": "display_data",
          "data": {
            "image/png": "[encoded data removed]",
            "text/plain": [
              "<Figure size 432x288 with 1 Axes>"
            ]
          },
          "metadata": {
            "needs_background": "light"
          }
        }
      ],
      "source": [
        "# Visualize test dataset\n",
        "images_test = next(iter(test_dataloader_C10))[0][:20]\n",
        "print(len(images_test))\n",
        "grid_test = torchvision.utils.make_grid(images_test, nrow=5, padding=10)\n",
        "show(grid_test)"
      ]
    },
    {
      "cell_type": "markdown",
      "source": [
        "Visualizing CIFAR-100 data"
      ],
      "metadata": {
        "id": "ydBgP0AQXxf4"
      }
    },
    {
      "cell_type": "code",
      "source": [
        "# Visualize train dataset\n",
        "images_train = next(iter(train_dataloader_C100))[0][:20]\n",
        "print(len(images_train[3]))\n",
        "grid_train = torchvision.utils.make_grid(images_train, nrow=5, padding=10)\n",
        "show(grid_train)"
      ],
      "metadata": {
        "colab": {
          "base_uri": "https://localhost:8080/",
          "height": 303
        },
        "id": "XeV63hW6cKsi",
        "outputId": "28f70ae5-afb8-48a4-e316-45e47a6ba90d"
      },
      "execution_count": null,
      "outputs": [
        {
          "output_type": "stream",
          "name": "stderr",
          "text": [
            "Clipping input data to the valid range for imshow with RGB data ([0..1] for floats or [0..255] for integers).\n"
          ]
        },
        {
          "output_type": "stream",
          "name": "stdout",
          "text": [
            "3\n"
          ]
        },
        {
          "output_type": "display_data",
          "data": {
            "image/png": "[encoded data removed]",
            "text/plain": [
              "<Figure size 432x288 with 1 Axes>"
            ]
          },
          "metadata": {
            "needs_background": "light"
          }
        }
      ]
    },
    {
      "cell_type": "code",
      "source": [
        "# Visualize test dataset\n",
        "images_test = next(iter(test_dataloader_C100))[0][:20]\n",
        "print(len(images_test))\n",
        "grid_test = torchvision.utils.make_grid(images_test, nrow=5, padding=10)\n",
        "show(grid_test)"
      ],
      "metadata": {
        "colab": {
          "base_uri": "https://localhost:8080/",
          "height": 303
        },
        "id": "Y7I6p910cV9s",
        "outputId": "935a60b3-ed97-468e-d5fb-b6e700b8ff25"
      },
      "execution_count": null,
      "outputs": [
        {
          "output_type": "stream",
          "name": "stderr",
          "text": [
            "Clipping input data to the valid range for imshow with RGB data ([0..1] for floats or [0..255] for integers).\n"
          ]
        },
        {
          "output_type": "stream",
          "name": "stdout",
          "text": [
            "20\n"
          ]
        },
        {
          "output_type": "display_data",
          "data": {
            "image/png": "[encoded data removed]",
            "text/plain": [
              "<Figure size 432x288 with 1 Axes>"
            ]
          },
          "metadata": {
            "needs_background": "light"
          }
        }
      ]
    },
    {
      "cell_type": "markdown",
      "source": [
        "***\n",
        "CIFAR-10-C and CIFAR-100-C\n",
        "\n",
        "To test the corruptions on the CIFAR-10 dataset, this dataset is only used as the testing set, training still occurs on regular CIFAR-10"
      ],
      "metadata": {
        "id": "sAzoHlp3Y1QT"
      }
    },
    {
      "cell_type": "code",
      "source": [
        "from torchvision.datasets.utils import download_and_extract_archive\n",
        "\n",
        "url = 'https://zenodo.org/record/2535967/files/CIFAR-10-C.tar'\n",
        "filename = 'CIFAR-10-C.tar'\n",
        "root = './data/'\n",
        "\n",
        "download_and_extract_archive(url, root, filename)"
      ],
      "metadata": {
        "id": "cdI3AtBpY1Cj",
        "colab": {
          "base_uri": "https://localhost:8080/",
          "height": 84,
          "referenced_widgets": [
            "41c510a586234dffa0fc7aaf01e90820",
            "a33adc2ab95443e6a63e294cf1adcf14",
            "88a073c1f00a4e8f9d6c213bfaa5c457",
            "c01421ed6b924e38941f0750aa87f109",
            "96c6f58949114206918e10d2207e1c50",
            "62008ef31a1d4e5880071c95d50b584d",
            "4b2f2cc909d0415d96660e1e1312bfe9",
            "5f79d6522768430d9c09a6ee7c084198",
            "f344b7fae6054e4f81e5f37427043ebf",
            "e7ae2c0a957143ef9dc82cddfa488060",
            "197276c8215d4ffa972509addde10984"
          ]
        },
        "outputId": "6c59a777-1458-403f-d9fd-fa77e82d984f"
      },
      "execution_count": null,
      "outputs": [
        {
          "output_type": "stream",
          "name": "stdout",
          "text": [
            "Downloading https://zenodo.org/record/2535967/files/CIFAR-10-C.tar to ./data/CIFAR-10-C.tar\n"
          ]
        },
        {
          "output_type": "display_data",
          "data": {
            "application/vnd.jupyter.widget-view+json": {
              "model_id": "41c510a586234dffa0fc7aaf01e90820",
              "version_minor": 0,
              "version_major": 2
            },
            "text/plain": [
              "  0%|          | 0/2918471680 [00:00<?, ?it/s]"
            ]
          },
          "metadata": {}
        },
        {
          "output_type": "stream",
          "name": "stdout",
          "text": [
            "Extracting ./data/CIFAR-10-C.tar to CIFAR-10-C.tar\n"
          ]
        }
      ]
    },
    {
      "cell_type": "code",
      "source": [
        "from torchvision.datasets.utils import download_and_extract_archive\n",
        "\n",
        "url = 'https://zenodo.org/record/3555552/files/CIFAR-100-C.tar'\n",
        "filename = 'CIFAR-100-C.tar'\n",
        "root = './data/'\n",
        "\n",
        "download_and_extract_archive(url, root, filename)"
      ],
      "metadata": {
        "id": "sURr5cFunKWj",
        "colab": {
          "base_uri": "https://localhost:8080/",
          "height": 84,
          "referenced_widgets": [
            "f06b5d91c6e049e2843a7977826606a0",
            "31a2d78e9ac1434d8ac8a843d645039a",
            "c3fdb386fb2e408ea0c655fa0e3d6caf",
            "9c0ea02d76644e2d8eac57a880338c49",
            "afe9a57a347c47b8b30fbd0b73035397",
            "bcac7dd0610c492ba200d9fb3fc70194",
            "24fb7e95ccdc47a6a67ed2fd8ea00482",
            "e221d187cb574b0cb64fda505056967a",
            "5e7695f0c2a148bbae295cdd3dcdc9b2",
            "9ae649aa97734308a462262baf72e4f9",
            "c371c46742ad4041965b28da71b62999"
          ]
        },
        "outputId": "d4beb063-ee29-443e-e52a-8f8265598052"
      },
      "execution_count": null,
      "outputs": [
        {
          "output_type": "stream",
          "name": "stdout",
          "text": [
            "Downloading https://zenodo.org/record/3555552/files/CIFAR-100-C.tar to ./data/CIFAR-100-C.tar\n"
          ]
        },
        {
          "output_type": "display_data",
          "data": {
            "application/vnd.jupyter.widget-view+json": {
              "model_id": "f06b5d91c6e049e2843a7977826606a0",
              "version_minor": 0,
              "version_major": 2
            },
            "text/plain": [
              "  0%|          | 0/2918473216 [00:00<?, ?it/s]"
            ]
          },
          "metadata": {}
        },
        {
          "output_type": "stream",
          "name": "stdout",
          "text": [
            "Extracting ./data/CIFAR-100-C.tar to CIFAR-100-C.tar\n"
          ]
        }
      ]
    },
    {
      "cell_type": "code",
      "source": [
        "os.listdir('./CIFAR-10-C.tar/CIFAR-10-C/')"
      ],
      "metadata": {
        "id": "zY7awfZjjG3L",
        "colab": {
          "base_uri": "https://localhost:8080/"
        },
        "outputId": "51cb52b6-8db2-4e41-f28a-c3ecde4a3d93"
      },
      "execution_count": null,
      "outputs": [
        {
          "output_type": "execute_result",
          "data": {
            "text/plain": [
              "['contrast.npy',\n",
              " 'zoom_blur.npy',\n",
              " 'defocus_blur.npy',\n",
              " 'saturate.npy',\n",
              " 'fog.npy',\n",
              " 'frost.npy',\n",
              " 'motion_blur.npy',\n",
              " 'snow.npy',\n",
              " 'speckle_noise.npy',\n",
              " 'spatter.npy',\n",
              " 'gaussian_noise.npy',\n",
              " 'jpeg_compression.npy',\n",
              " 'brightness.npy',\n",
              " 'gaussian_blur.npy',\n",
              " 'elastic_transform.npy',\n",
              " 'labels.npy',\n",
              " 'pixelate.npy',\n",
              " 'shot_noise.npy',\n",
              " 'impulse_noise.npy',\n",
              " 'glass_blur.npy']"
            ]
          },
          "metadata": {},
          "execution_count": 14
        }
      ]
    },
    {
      "cell_type": "code",
      "source": [
        "os.listdir('./CIFAR-100-C.tar/CIFAR-100-C/')"
      ],
      "metadata": {
        "id": "_sFVAhPyoCUZ",
        "colab": {
          "base_uri": "https://localhost:8080/"
        },
        "outputId": "255d201a-4d65-4346-d2ed-cdfe35073298"
      },
      "execution_count": null,
      "outputs": [
        {
          "output_type": "execute_result",
          "data": {
            "text/plain": [
              "['contrast.npy',\n",
              " 'zoom_blur.npy',\n",
              " 'defocus_blur.npy',\n",
              " 'saturate.npy',\n",
              " 'fog.npy',\n",
              " 'frost.npy',\n",
              " 'motion_blur.npy',\n",
              " 'snow.npy',\n",
              " 'speckle_noise.npy',\n",
              " 'spatter.npy',\n",
              " 'gaussian_noise.npy',\n",
              " 'jpeg_compression.npy',\n",
              " 'brightness.npy',\n",
              " 'README.txt',\n",
              " 'gaussian_blur.npy',\n",
              " 'elastic_transform.npy',\n",
              " 'labels.npy',\n",
              " 'pixelate.npy',\n",
              " 'shot_noise.npy',\n",
              " 'impulse_noise.npy',\n",
              " 'glass_blur.npy']"
            ]
          },
          "metadata": {},
          "execution_count": 15
        }
      ]
    },
    {
      "cell_type": "code",
      "source": [
        "dataset=\"cifar10\"\n",
        "model=\"net\"\n",
        "\n",
        "learning_rate= args['learning-rate']\n",
        "momentum= args['momentum']\n",
        "decay= args['decay']\n",
        "no_epochs= args['epochs']\n",
        "print_frequency= args['print_freq']\n",
        "\n",
        "base_c_path = './CIFAR-10-C.tar/CIFAR-10-C/'\n",
        "base_c_path_100 = './CIFAR-100-C.tar/CIFAR-100-C/'"
      ],
      "metadata": {
        "id": "Dr3mTbmawaoG"
      },
      "execution_count": null,
      "outputs": []
    },
    {
      "cell_type": "markdown",
      "source": [
        "*Test* and *Train* functions. Note a different test function is needed for testing the corrupted dataset."
      ],
      "metadata": {
        "id": "2LpF6ikNI5Q2"
      }
    },
    {
      "cell_type": "code",
      "source": [
        "def test(net, test_loader):\n",
        "  \"\"\"Evaluate network on given dataset.\"\"\"\n",
        "  net.eval()\n",
        "  total_loss = 0.\n",
        "  total_correct = 0\n",
        "  with torch.no_grad():\n",
        "    for images, targets in test_loader:\n",
        "      images, targets = images.cuda(), targets.cuda()\n",
        "      logits = net(images)\n",
        "      loss = F.cross_entropy(logits, targets)\n",
        "      pred = logits.data.max(1)[1]\n",
        "      total_loss += float(loss.data)\n",
        "      total_correct += pred.eq(targets.data).sum().item()\n",
        "\n",
        "  return total_loss / len(test_loader.dataset), total_correct / len(\n",
        "      test_loader.dataset)"
      ],
      "metadata": {
        "id": "EXwjv3R4I4FV"
      },
      "execution_count": null,
      "outputs": []
    },
    {
      "cell_type": "code",
      "source": [
        "def test_c(net, test_data, base_path):\n",
        "  \"\"\"Evaluate network on given corrupted dataset.\"\"\"\n",
        "  corruption_accs = []\n",
        "  for corruption in CORRUPTIONS:\n",
        "    # Reference to original data is mutated\n",
        "    test_data.data = np.load(base_path + corruption + '.npy')\n",
        "    test_data.targets = torch.LongTensor(np.load(base_path + 'labels.npy'))\n",
        "\n",
        "    test_loader = torch.utils.data.DataLoader(\n",
        "        test_data,\n",
        "        batch_size=args['eval_batch_size'],\n",
        "        shuffle=False,\n",
        "        num_workers=args['num_workers'],\n",
        "        pin_memory=True)\n",
        "\n",
        "    test_loss, test_acc = test(net, test_loader)\n",
        "    corruption_accs.append(test_acc)\n",
        "    print('{}\\n\\tTest Loss {:.3f} | Test Error {:.3f}'.format(\n",
        "        corruption, test_loss, 100 - 100. * test_acc))\n",
        "\n",
        "  # return np.mean(corruption_accs)\n",
        "  return corruption_accs"
      ],
      "metadata": {
        "id": "yDMrfjoGJecD"
      },
      "execution_count": null,
      "outputs": []
    },
    {
      "cell_type": "code",
      "source": [
        "#This is the training function. We set no_jsd to 1 to disable the Jensen-Shannon\n",
        "#Divergence loss term (at the cost of slightly lower performance). \n",
        "#We also commented scheduler to decrease the computation load.\n",
        "def train(net, train_loader, optimizer, scheduler):\n",
        "  \"\"\"Train for one epoch.\"\"\"\n",
        "  net.train()\n",
        "  no_jsd=1\n",
        "  loss_ema = 0.\n",
        "  for i, (images, targets) in enumerate(train_loader):\n",
        "    optimizer.zero_grad()\n",
        "\n",
        "    if no_jsd:\n",
        "      images = images.cuda()\n",
        "      targets = targets.cuda()\n",
        "      logits = net(images)\n",
        "      loss = F.cross_entropy(logits, targets)\n",
        "    else:\n",
        "      images_all = torch.cat(images, 0).cuda()\n",
        "      targets = targets.cuda()\n",
        "      logits_all = net(images_all)\n",
        "      logits_clean, logits_aug1, logits_aug2 = torch.split(\n",
        "          logits_all, images[0].size(0))\n",
        "\n",
        "      # Cross-entropy is only computed on clean images\n",
        "      loss = F.cross_entropy(logits_clean, targets)\n",
        "\n",
        "      p_clean, p_aug1, p_aug2 = F.softmax(\n",
        "          logits_clean, dim=1), F.softmax(\n",
        "              logits_aug1, dim=1), F.softmax(\n",
        "                  logits_aug2, dim=1)\n",
        "\n",
        "      # Clamp mixture distribution to avoid exploding KL divergence\n",
        "      p_mixture = torch.clamp((p_clean + p_aug1 + p_aug2) / 3., 1e-7, 1).log()\n",
        "      loss += 12 * (F.kl_div(p_mixture, p_clean, reduction='batchmean') +\n",
        "                    F.kl_div(p_mixture, p_aug1, reduction='batchmean') +\n",
        "                    F.kl_div(p_mixture, p_aug2, reduction='batchmean')) / 3.\n",
        "\n",
        "    loss.backward()\n",
        "    optimizer.step()\n",
        "    #scheduler.step()\n",
        "    loss_ema = loss_ema * 0.9 + float(loss) * 0.1\n",
        "    if i % print_frequency == 0:\n",
        "      print('Train Loss {:.3f}'.format(loss_ema))\n",
        "\n",
        "  return loss_ema"
      ],
      "metadata": {
        "id": "OCE24enOMdE7"
      },
      "execution_count": null,
      "outputs": []
    },
    {
      "cell_type": "code",
      "source": [
        "# These functions change the learning rate to find the best one.\n",
        "def get_lr(step, total_steps, lr_max, lr_min):\n",
        "  \"\"\"Compute learning rate according to cosine annealing schedule.\"\"\"\n",
        "  return lr_min + (lr_max - lr_min) * 0.5 * (1 +\n",
        "                                             np.cos(step / total_steps * np.pi))\n"
      ],
      "metadata": {
        "id": "k5eurAfIMReU"
      },
      "execution_count": null,
      "outputs": []
    },
    {
      "cell_type": "code",
      "source": [
        "#define a path for saving the data\n",
        "log_path = os.path.join(dataset + '_' + model + '_training_log.csv')\n",
        "with open(log_path, 'w') as f:\n",
        "  f.write('epoch,time(s),train_loss,test_loss,test_error(%)\\n')"
      ],
      "metadata": {
        "id": "MQk706SuM30B"
      },
      "execution_count": null,
      "outputs": []
    },
    {
      "cell_type": "markdown",
      "source": [
        "# Testing datasets CIFAR-10-C and CIFAR-100-C with AugMix for different models"
      ],
      "metadata": {
        "id": "pX3fARUyhHnL"
      }
    },
    {
      "cell_type": "markdown",
      "source": [
        "Models used to train and test: *DenseNet, ResNeXt, AllConvNet* and *WideResNet*"
      ],
      "metadata": {
        "id": "Y8WwqNZ9c4cx"
      }
    },
    {
      "cell_type": "code",
      "source": [
        "!git clone https://github.com/RRENT5/Augx.git\n",
        "\n",
        "from Augx import DenseNet\n",
        "from Augx import ResNeXt\n",
        "from Augx import WideResNet\n",
        "from Augx import AllConvNet\n"
      ],
      "metadata": {
        "id": "Rd4-MfcJhcsz",
        "colab": {
          "base_uri": "https://localhost:8080/"
        },
        "outputId": "2eabb8e2-25b3-4ed3-f0e6-cf47f69f229a"
      },
      "execution_count": null,
      "outputs": [
        {
          "output_type": "stream",
          "name": "stdout",
          "text": [
            "Cloning into 'Augx'...\n",
            "remote: Enumerating objects: 28, done.\u001b[K\n",
            "remote: Counting objects: 100% (28/28), done.\u001b[K\n",
            "remote: Compressing objects: 100% (24/24), done.\u001b[K\n",
            "remote: Total 28 (delta 7), reused 2 (delta 1), pack-reused 0\u001b[K\n",
            "Unpacking objects: 100% (28/28), done.\n"
          ]
        }
      ]
    },
    {
      "cell_type": "markdown",
      "source": [
        "We first try with model ***Densenet***."
      ],
      "metadata": {
        "id": "FKJcXWWybOVr"
      }
    },
    {
      "cell_type": "code",
      "source": [
        "# Generate two nets: one with and one without AugMix\n",
        "\n",
        "#number of classes for CIFAR-10 is 10\n",
        "net = DenseNet.densenet(num_classes=10)\n",
        "net_std = DenseNet.densenet(num_classes=10)\n",
        "\n",
        "optimizer = torch.optim.SGD(\n",
        "      net.parameters(),\n",
        "      learning_rate,\n",
        "      momentum=momentum,\n",
        "      weight_decay=decay,\n",
        "      nesterov=True)\n",
        "optimizer_std = torch.optim.SGD(\n",
        "      net_std.parameters(),\n",
        "      learning_rate,\n",
        "      momentum=momentum,\n",
        "      weight_decay=decay,\n",
        "      nesterov=True)\n",
        "\n",
        "scheduler = torch.optim.lr_scheduler.LambdaLR(\n",
        "    optimizer,\n",
        "    lr_lambda=lambda step: get_lr(  # pylint: disable=g-long-lambda\n",
        "        step,\n",
        "        no_epochs * len(train_dataloader_C10),\n",
        "        1,  # lr_lambda computes multiplicative factor\n",
        "        1e-6 / learning_rate))\n",
        "scheduler_std = torch.optim.lr_scheduler.LambdaLR(\n",
        "    optimizer,\n",
        "    lr_lambda=lambda step: get_lr(  # pylint: disable=g-long-lambda\n",
        "        step,\n",
        "        no_epochs * len(train_dataloader_C10_std),\n",
        "        1,  # lr_lambda computes multiplicative factor\n",
        "        1e-6 / learning_rate))"
      ],
      "metadata": {
        "id": "awYTxKlGvXLH"
      },
      "execution_count": null,
      "outputs": []
    },
    {
      "cell_type": "code",
      "source": [
        "# Distribute model across all visible GPUs\n",
        "import torch.backends.cudnn as cudnn\n",
        "\n",
        "torch.cuda.is_available()\n",
        "net = torch.nn.DataParallel(net).cuda()\n",
        "net_std = torch.nn.DataParallel(net_std).cuda()\n",
        "cudnn.benchmark = True"
      ],
      "metadata": {
        "id": "mMGrUjPkeqTS"
      },
      "execution_count": null,
      "outputs": []
    },
    {
      "cell_type": "markdown",
      "source": [
        "Checking clean model gives expected error (around 90% for 10 categories)"
      ],
      "metadata": {
        "id": "eJviiySwXOtL"
      }
    },
    {
      "cell_type": "code",
      "source": [
        "test_loss, test_acc = test(net, test_dataloader_C10)\n",
        "print('Clean\\n\\tTest Loss {:.3f} | Test Error {:.2f}'.format(\n",
        "test_loss, 100 - 100. * test_acc))\n",
        "\n",
        "scheduler = torch.optim.lr_scheduler.LambdaLR(\n",
        "    optimizer,\n",
        "    lr_lambda=lambda step: get_lr(  # pylint: disable=g-long-lambda\n",
        "        step,\n",
        "        no_epochs * len(train_dataloader_C10),\n",
        "        1,  # lr_lambda computes multiplicative factor\n",
        "        1e-6 / learning_rate))\n",
        "\n",
        "#define a path for saving the data\n",
        "log_path = os.path.join(dataset + '_' + model + '_training_log.csv')\n",
        "with open(log_path, 'w') as f:\n",
        "  f.write('epoch,time(s),train_loss,test_loss,test_error(%)\\n')"
      ],
      "metadata": {
        "id": "PvfR2Os3XHIT",
        "colab": {
          "base_uri": "https://localhost:8080/"
        },
        "outputId": "338d3534-b444-459d-dbd7-314e89ac60d2"
      },
      "execution_count": null,
      "outputs": [
        {
          "output_type": "stream",
          "name": "stdout",
          "text": [
            "Clean\n",
            "\tTest Loss 4.076 | Test Error 90.00\n"
          ]
        }
      ]
    },
    {
      "cell_type": "markdown",
      "source": [
        "\n",
        "Training and testing for CIFAR10, testing also on CIFAR10-C"
      ],
      "metadata": {
        "id": "lvbApEuJN5pi"
      }
    },
    {
      "cell_type": "code",
      "source": [
        "def run_model(net, train_loader, optimizer, scheduler):\n",
        "\n",
        "    dataset=\"cifar10\"\n",
        "    model=\"net\"\n",
        "\n",
        "    # If execution crashes, uncomment the following line to learn more about\n",
        "    # PyTorch CUDA memory summary\n",
        "    #print(torch.cuda.memory_summary(device=None, abbreviated=False))\n",
        "\n",
        "    start_epoch=0\n",
        "    best_acc = 0\n",
        "    print('Beginning training from epoch:', start_epoch + 1)\n",
        "\n",
        "    for epoch in range(start_epoch, no_epochs):\n",
        "        begin_time = time.time()\n",
        "\n",
        "        train_loss_ema = train(net, train_loader, optimizer, scheduler)\n",
        "        test_loss, test_acc = test(net, test_dataloader_C10)\n",
        "\n",
        "        is_best = test_acc > best_acc\n",
        "        best_acc = max(test_acc, best_acc)\n",
        "        checkpoint = {\n",
        "            'epoch': epoch,\n",
        "            'dataset': dataset,\n",
        "            'model': model,\n",
        "            'state_dict': net.state_dict(),\n",
        "            'best_acc': best_acc,\n",
        "            'optimizer': optimizer.state_dict(),\n",
        "        }\n",
        "\n",
        "        save_path = os.path.join('checkpoint.pth.tar')\n",
        "        torch.save(checkpoint, save_path)\n",
        "        if is_best:\n",
        "            shutil.copyfile(save_path, os.path.join('model_best.pth.tar'))\n",
        "\n",
        "        with open(log_path, 'a') as f:\n",
        "            f.write('%03d,%05d,%0.6f,%0.5f,%0.2f\\n' % (\n",
        "                (epoch + 1),\n",
        "                time.time() - begin_time,\n",
        "                train_loss_ema,\n",
        "                test_loss,\n",
        "                100 - 100. * test_acc,\n",
        "            ))\n",
        "\n",
        "        print(\n",
        "            'Epoch {0:3d} | Time {1:5d} | Train Loss {2:.4f} | Test Loss {3:.3f} |'\n",
        "            ' Test Error {4:.2f}'\n",
        "            .format((epoch + 1), int(time.time() - begin_time), train_loss_ema,\n",
        "                    test_loss, 100 - 100. * test_acc))"
      ],
      "metadata": {
        "id": "rAtbTYvqlT2u"
      },
      "execution_count": null,
      "outputs": []
    },
    {
      "cell_type": "code",
      "source": [
        "run_model(net, train_dataloader_C10, optimizer, scheduler)"
      ],
      "metadata": {
        "colab": {
          "base_uri": "https://localhost:8080/",
          "height": 381
        },
        "id": "H8g2LZf5m7oF",
        "outputId": "ea60596b-d838-4746-9ec2-91d71e905fdf"
      },
      "execution_count": null,
      "outputs": [
        {
          "output_type": "stream",
          "name": "stdout",
          "text": [
            "Beginning training from epoch: 1\n",
            "Train Loss 0.232\n",
            "Train Loss 1.701\n",
            "Train Loss 1.465\n"
          ]
        },
        {
          "output_type": "error",
          "ename": "KeyboardInterrupt",
          "evalue": "ignored",
          "traceback": [
            "\u001b[0;31m---------------------------------------------------------------------------\u001b[0m",
            "\u001b[0;31mKeyboardInterrupt\u001b[0m                         Traceback (most recent call last)",
            "\u001b[0;32m<ipython-input-27-90fd13d7ae2b>\u001b[0m in \u001b[0;36m<module>\u001b[0;34m()\u001b[0m\n\u001b[0;32m----> 1\u001b[0;31m \u001b[0mrun_model\u001b[0m\u001b[0;34m(\u001b[0m\u001b[0mnet\u001b[0m\u001b[0;34m,\u001b[0m \u001b[0mtrain_dataloader_C10\u001b[0m\u001b[0;34m,\u001b[0m \u001b[0moptimizer\u001b[0m\u001b[0;34m,\u001b[0m \u001b[0mscheduler\u001b[0m\u001b[0;34m)\u001b[0m\u001b[0;34m\u001b[0m\u001b[0;34m\u001b[0m\u001b[0m\n\u001b[0m",
            "\u001b[0;32m<ipython-input-26-3877f3241b1a>\u001b[0m in \u001b[0;36mrun_model\u001b[0;34m(net, train_loader, optimizer, scheduler)\u001b[0m\n\u001b[1;32m     15\u001b[0m         \u001b[0mbegin_time\u001b[0m \u001b[0;34m=\u001b[0m \u001b[0mtime\u001b[0m\u001b[0;34m.\u001b[0m\u001b[0mtime\u001b[0m\u001b[0;34m(\u001b[0m\u001b[0;34m)\u001b[0m\u001b[0;34m\u001b[0m\u001b[0;34m\u001b[0m\u001b[0m\n\u001b[1;32m     16\u001b[0m \u001b[0;34m\u001b[0m\u001b[0m\n\u001b[0;32m---> 17\u001b[0;31m         \u001b[0mtrain_loss_ema\u001b[0m \u001b[0;34m=\u001b[0m \u001b[0mtrain\u001b[0m\u001b[0;34m(\u001b[0m\u001b[0mnet\u001b[0m\u001b[0;34m,\u001b[0m \u001b[0mtrain_loader\u001b[0m\u001b[0;34m,\u001b[0m \u001b[0moptimizer\u001b[0m\u001b[0;34m,\u001b[0m \u001b[0mscheduler\u001b[0m\u001b[0;34m)\u001b[0m\u001b[0;34m\u001b[0m\u001b[0;34m\u001b[0m\u001b[0m\n\u001b[0m\u001b[1;32m     18\u001b[0m         \u001b[0mtest_loss\u001b[0m\u001b[0;34m,\u001b[0m \u001b[0mtest_acc\u001b[0m \u001b[0;34m=\u001b[0m \u001b[0mtest\u001b[0m\u001b[0;34m(\u001b[0m\u001b[0mnet\u001b[0m\u001b[0;34m,\u001b[0m \u001b[0mtest_dataloader_C10\u001b[0m\u001b[0;34m)\u001b[0m\u001b[0;34m\u001b[0m\u001b[0;34m\u001b[0m\u001b[0m\n\u001b[1;32m     19\u001b[0m \u001b[0;34m\u001b[0m\u001b[0m\n",
            "\u001b[0;32m<ipython-input-19-45db41003c45>\u001b[0m in \u001b[0;36mtrain\u001b[0;34m(net, train_loader, optimizer, scheduler)\u001b[0m\n\u001b[1;32m     39\u001b[0m     \u001b[0moptimizer\u001b[0m\u001b[0;34m.\u001b[0m\u001b[0mstep\u001b[0m\u001b[0;34m(\u001b[0m\u001b[0;34m)\u001b[0m\u001b[0;34m\u001b[0m\u001b[0;34m\u001b[0m\u001b[0m\n\u001b[1;32m     40\u001b[0m     \u001b[0;31m#scheduler.step()\u001b[0m\u001b[0;34m\u001b[0m\u001b[0;34m\u001b[0m\u001b[0;34m\u001b[0m\u001b[0m\n\u001b[0;32m---> 41\u001b[0;31m     \u001b[0mloss_ema\u001b[0m \u001b[0;34m=\u001b[0m \u001b[0mloss_ema\u001b[0m \u001b[0;34m*\u001b[0m \u001b[0;36m0.9\u001b[0m \u001b[0;34m+\u001b[0m \u001b[0mfloat\u001b[0m\u001b[0;34m(\u001b[0m\u001b[0mloss\u001b[0m\u001b[0;34m)\u001b[0m \u001b[0;34m*\u001b[0m \u001b[0;36m0.1\u001b[0m\u001b[0;34m\u001b[0m\u001b[0;34m\u001b[0m\u001b[0m\n\u001b[0m\u001b[1;32m     42\u001b[0m     \u001b[0;32mif\u001b[0m \u001b[0mi\u001b[0m \u001b[0;34m%\u001b[0m \u001b[0mprint_frequency\u001b[0m \u001b[0;34m==\u001b[0m \u001b[0;36m0\u001b[0m\u001b[0;34m:\u001b[0m\u001b[0;34m\u001b[0m\u001b[0;34m\u001b[0m\u001b[0m\n\u001b[1;32m     43\u001b[0m       \u001b[0mprint\u001b[0m\u001b[0;34m(\u001b[0m\u001b[0;34m'Train Loss {:.3f}'\u001b[0m\u001b[0;34m.\u001b[0m\u001b[0mformat\u001b[0m\u001b[0;34m(\u001b[0m\u001b[0mloss_ema\u001b[0m\u001b[0;34m)\u001b[0m\u001b[0;34m)\u001b[0m\u001b[0;34m\u001b[0m\u001b[0;34m\u001b[0m\u001b[0m\n",
            "\u001b[0;31mKeyboardInterrupt\u001b[0m: "
          ]
        }
      ]
    },
    {
      "cell_type": "code",
      "source": [
        "# With AugMix\n",
        "test_loss, test_acc = test(net, test_dataloader_C10)\n",
        "print('Clean\\n\\tTest Loss {:.3f} | Test Error {:.2f}'.format(test_loss, 100 - 100. * test_acc))\n",
        "\n",
        "test_c_accs = test_c(net, test_dataset_C10, base_c_path)\n",
        "test_c_acc = np.mean(test_c_accs)\n",
        "print('Mean Corruption Error: {:.3f}'.format(100 - 100. * test_c_acc))"
      ],
      "metadata": {
        "id": "uxsQyndk0jVA"
      },
      "execution_count": null,
      "outputs": []
    },
    {
      "cell_type": "code",
      "source": [
        "run_model(net_std, train_dataloader_C10_std, optimizer_std, scheduler_std)"
      ],
      "metadata": {
        "id": "wdd7JUwRnGGQ"
      },
      "execution_count": null,
      "outputs": []
    },
    {
      "cell_type": "code",
      "source": [
        "# Without AugMix\n",
        "test_loss_std, test_acc_std = test(net_std, test_dataloader_C10)\n",
        "print('Clean\\n\\tTest Loss {:.3f} | Test Error {:.2f}'.format(test_loss_std, 100 - 100. * test_acc_std))\n",
        "\n",
        "test_c_accs_std = test_c(net_std, test_dataset_C10, base_c_path)\n",
        "test_c_acc_std = np.mean(test_c_accs_std)\n",
        "print('Mean Corruption Error: {:.3f}'.format(100 - 100. * test_c_acc))"
      ],
      "metadata": {
        "id": "Dmkh7VuHkYtF"
      },
      "execution_count": null,
      "outputs": []
    },
    {
      "cell_type": "code",
      "source": [
        "# TODO: the net has to be adapted for the standard and AugMix applications\n",
        "\n",
        "test_c_errs = np.subtract(1,test_c_accs) *100\n",
        "test_c_errs_std = np.subtract(1,test_c_accs_std) *100\n",
        "test_err_std = np.subtract(1,test_acc) *100\n",
        "\n",
        "fig = plt.figure(figsize=(10,4))\n",
        "ax = fig.add_axes([0,0,1,1])\n",
        "labels = ['Gaussian Noise','Shot Noise','Impulse Noise','Defocus Blur',\n",
        "          'Glass Blur','Motion Blur','Zoom Blur','Snow','Frost','Fog',\n",
        "          'Brightness','Contrast','Elastic Transform','Pixelate',\n",
        "          'JPEG Compression']\n",
        "x_axis = np.arange(len(labels))\n",
        "w = 0.2\n",
        "\n",
        "ax.yaxis.grid(zorder=0)\n",
        "\n",
        "plt.bar(x_axis-w, test_c_errs_std, w*2, label='Standard', zorder=3)\n",
        "plt.bar(x_axis+w, test_c_errs, w*2, label='AugMix', zorder=3)\n",
        "\n",
        "plt.xticks(x_axis,labels,rotation=90)\n",
        "plt.title('CIFAR-10-C Error Rates for Each Corruption: Densenet')\n",
        "plt.ylabel('Error (%)')\n",
        "\n",
        "plt.axhline(y=test_err_std, linewidth=2, color='r', linestyle='--', label='Standard Clean Error', zorder=4)\n",
        "plt.legend()\n",
        "\n",
        "plt.savefig('corruptions.eps', format='eps', bbox_inches='tight')"
      ],
      "metadata": {
        "id": "QGiAnnQ2t58-"
      },
      "execution_count": null,
      "outputs": []
    },
    {
      "cell_type": "markdown",
      "source": [
        "CIFAR100-C"
      ],
      "metadata": {
        "id": "rEIhVNosTIWW"
      }
    },
    {
      "cell_type": "code",
      "source": [
        "dataset=\"cifar100\"\n",
        "model=\"net\""
      ],
      "metadata": {
        "id": "XjV5CTrc0RJr"
      },
      "execution_count": null,
      "outputs": []
    },
    {
      "cell_type": "code",
      "source": [
        "#number of classes for CIFAR-100 is 100\n",
        "net = DenseNet.densenet(num_classes=100)\n",
        "\n",
        "# Distribute model across all visible GPUs\n",
        "import torch.backends.cudnn as cudnn\n",
        "torch.cuda.is_available()\n",
        "net = torch.nn.DataParallel(net).cuda()\n",
        "cudnn.benchmark = True"
      ],
      "metadata": {
        "id": "MM2RQoZ00URC"
      },
      "execution_count": null,
      "outputs": []
    },
    {
      "cell_type": "markdown",
      "source": [
        "Checking clean model gives expected error (around 99% for 100 categories)"
      ],
      "metadata": {
        "id": "4MN_80kiXdRk"
      }
    },
    {
      "cell_type": "code",
      "source": [
        "test_loss, test_acc = test(net, test_dataloader_C100)\n",
        "print('Clean\\n\\tTest Loss {:.3f} | Test Error {:.2f}'.format(\n",
        "test_loss, 100 - 100. * test_acc))\n",
        "\n",
        "scheduler = torch.optim.lr_scheduler.LambdaLR(\n",
        "    optimizer,\n",
        "    lr_lambda=lambda step: get_lr(  # pylint: disable=g-long-lambda\n",
        "        step,\n",
        "        no_epochs * len(train_dataloader_C100),\n",
        "        1,  # lr_lambda computes multiplicative factor\n",
        "        1e-6 / learning_rate))\n",
        "\n",
        "#define a path for saving the data\n",
        "log_path = os.path.join(dataset + '_' + model + '_training_log.csv')\n",
        "with open(log_path, 'w') as f:\n",
        "  f.write('epoch,time(s),train_loss,test_loss,test_error(%)\\n')"
      ],
      "metadata": {
        "id": "vXbWv3jD0fkI"
      },
      "execution_count": null,
      "outputs": []
    },
    {
      "cell_type": "markdown",
      "source": [
        "Training and testing for CIFAR100, testing also on CIFAR100-C"
      ],
      "metadata": {
        "id": "ik2XrUyvZ6XV"
      }
    },
    {
      "cell_type": "code",
      "source": [
        "# If execution crashes, uncomment the following line to learn more about\n",
        "# PyTorch CUDA memory summary\n",
        "\n",
        "# print(torch.cuda.memory_summary(device=None, abbreviated=False))\n",
        "\n",
        "start_epoch=0\n",
        "best_acc = 0\n",
        "print('Beginning training from epoch:', start_epoch + 1)\n",
        "\n",
        "for epoch in range(start_epoch, no_epochs):\n",
        "    begin_time = time.time()\n",
        "\n",
        "    train_loss_ema = train(net, train_dataloader_C100, optimizer, scheduler)\n",
        "    test_loss, test_acc = test(net, test_dataloader_C100)\n",
        "\n",
        "    is_best = test_acc > best_acc\n",
        "    best_acc = max(test_acc, best_acc)\n",
        "    checkpoint = {\n",
        "        'epoch': epoch,\n",
        "        'dataset': dataset,\n",
        "        'model': model,\n",
        "        'state_dict': net.state_dict(),\n",
        "        'best_acc': best_acc,\n",
        "        'optimizer': optimizer.state_dict(),\n",
        "    }\n",
        "\n",
        "    save_path = os.path.join('checkpoint.pth.tar')\n",
        "    torch.save(checkpoint, save_path)\n",
        "    if is_best:\n",
        "      shutil.copyfile(save_path, os.path.join('model_best.pth.tar'))\n",
        "\n",
        "    with open(log_path, 'a') as f:\n",
        "      f.write('%03d,%05d,%0.6f,%0.5f,%0.2f\\n' % (\n",
        "          (epoch + 1),\n",
        "          time.time() - begin_time,\n",
        "          train_loss_ema,\n",
        "          test_loss,\n",
        "          100 - 100. * test_acc,\n",
        "      ))\n",
        "\n",
        "    print(\n",
        "        'Epoch {0:3d} | Time {1:5d} | Train Loss {2:.4f} | Test Loss {3:.3f} |'\n",
        "        ' Test Error {4:.2f}'\n",
        "        .format((epoch + 1), int(time.time() - begin_time), train_loss_ema,\n",
        "                test_loss, 100 - 100. * test_acc))"
      ],
      "metadata": {
        "id": "ZeC7a_360u5n"
      },
      "execution_count": null,
      "outputs": []
    },
    {
      "cell_type": "code",
      "source": [
        "test_loss, test_acc = test(net, test_dataloader_C100)\n",
        "print('Clean\\n\\tTest Loss {:.3f} | Test Error {:.2f}'.format(test_loss, 100 - 100. * test_acc))\n",
        "\n",
        "test_c_accs = test_c(net, test_dataset_C100, base_c_path_100)\n",
        "test_c_acc = np.mean(test_c_accs)\n",
        "print('Mean Corruption Error: {:.3f}'.format(100 - 100. * test_c_acc))"
      ],
      "metadata": {
        "id": "sPgWzBDik1Co"
      },
      "execution_count": null,
      "outputs": []
    },
    {
      "cell_type": "markdown",
      "source": [
        "Now we try with model ***ResNeXt***. "
      ],
      "metadata": {
        "id": "vy4csf1T4vFD"
      }
    },
    {
      "cell_type": "code",
      "source": [
        "dataset=\"cifar10\"\n",
        "model=\"net\"\n",
        "\n",
        "#number of classes for CIFAR-10 is 10\n",
        "net = ResNeXt.resnext29(num_classes=10)\n",
        "\n",
        "optimizer = torch.optim.SGD(\n",
        "      net.parameters(),\n",
        "      learning_rate,\n",
        "      momentum=momentum,\n",
        "      weight_decay=decay,\n",
        "      nesterov=True)\n",
        "\n",
        "\n",
        "# Distribute model across all visible GPUs\n",
        "import torch.backends.cudnn as cudnn\n",
        "torch.cuda.is_available()\n",
        "net = torch.nn.DataParallel(net).cuda()\n",
        "cudnn.benchmark = True"
      ],
      "metadata": {
        "id": "JRhH83x709I3"
      },
      "execution_count": null,
      "outputs": []
    },
    {
      "cell_type": "markdown",
      "source": [
        "Checking clean model gives expected error (around 90% for 10 categories)"
      ],
      "metadata": {
        "id": "GHti6nMsZuM-"
      }
    },
    {
      "cell_type": "code",
      "source": [
        "test_loss, test_acc = test(net, test_dataloader_C10)\n",
        "print('Clean\\n\\tTest Loss {:.3f} | Test Error {:.2f}'.format(\n",
        "test_loss, 100 - 100. * test_acc))\n",
        "\n",
        "scheduler = torch.optim.lr_scheduler.LambdaLR(\n",
        "    optimizer,\n",
        "    lr_lambda=lambda step: get_lr(  # pylint: disable=g-long-lambda\n",
        "        step,\n",
        "        no_epochs * len(train_dataloader_C10),\n",
        "        1,  # lr_lambda computes multiplicative factor\n",
        "        1e-6 / learning_rate))\n",
        "\n",
        "#define a path for saving the data\n",
        "log_path = os.path.join(dataset + '_' + model + '_training_log.csv')\n",
        "with open(log_path, 'w') as f:\n",
        "  f.write('epoch,time(s),train_loss,test_loss,test_error(%)\\n')"
      ],
      "metadata": {
        "id": "x4csgP4K0-ve"
      },
      "execution_count": null,
      "outputs": []
    },
    {
      "cell_type": "markdown",
      "source": [
        "Training and testing for CIFAR10, testing also on CIFAR10-C"
      ],
      "metadata": {
        "id": "KM8qBjaUkQaQ"
      }
    },
    {
      "cell_type": "code",
      "source": [
        "# If execution crashes, uncomment the following line to learn more about\n",
        "# PyTorch CUDA memory summary\n",
        "\n",
        "# print(torch.cuda.memory_summary(device=None, abbreviated=False))\n",
        "\n",
        "start_epoch=0\n",
        "best_acc = 0\n",
        "print('Beginning training from epoch:', start_epoch + 1)\n",
        "\n",
        "for epoch in range(start_epoch, no_epochs):\n",
        "    begin_time = time.time()\n",
        "\n",
        "    train_loss_ema = train(net, train_dataloader_C10, optimizer, scheduler)\n",
        "    test_loss, test_acc = test(net, test_dataloader_C10)\n",
        "\n",
        "    is_best = test_acc > best_acc\n",
        "    best_acc = max(test_acc, best_acc)\n",
        "    checkpoint = {\n",
        "        'epoch': epoch,\n",
        "        'dataset': dataset,\n",
        "        'model': model,\n",
        "        'state_dict': net.state_dict(),\n",
        "        'best_acc': best_acc,\n",
        "        'optimizer': optimizer.state_dict(),\n",
        "    }\n",
        "\n",
        "    save_path = os.path.join('checkpoint.pth.tar')\n",
        "    torch.save(checkpoint, save_path)\n",
        "    if is_best:\n",
        "      shutil.copyfile(save_path, os.path.join('model_best.pth.tar'))\n",
        "\n",
        "    with open(log_path, 'a') as f:\n",
        "      f.write('%03d,%05d,%0.6f,%0.5f,%0.2f\\n' % (\n",
        "          (epoch + 1),\n",
        "          time.time() - begin_time,\n",
        "          train_loss_ema,\n",
        "          test_loss,\n",
        "          100 - 100. * test_acc,\n",
        "      ))\n",
        "\n",
        "    print(\n",
        "        'Epoch {0:3d} | Time {1:5d} | Train Loss {2:.4f} | Test Loss {3:.3f} |'\n",
        "        ' Test Error {4:.2f}'\n",
        "        .format((epoch + 1), int(time.time() - begin_time), train_loss_ema,\n",
        "                test_loss, 100 - 100. * test_acc))"
      ],
      "metadata": {
        "id": "1wArdKMz1Dsr"
      },
      "execution_count": null,
      "outputs": []
    },
    {
      "cell_type": "code",
      "source": [
        "test_loss, test_acc = test(net, test_dataloader_C10)\n",
        "print('Clean\\n\\tTest Loss {:.3f} | Test Error {:.2f}'.format(test_loss, 100 - 100. * test_acc))\n",
        "\n",
        "test_c_accs = test_c(net, test_dataset_C10, base_c_path)\n",
        "test_c_acc = np.mean(test_c_accs)\n",
        "print('Mean Corruption Error: {:.3f}'.format(100 - 100. * test_c_acc))"
      ],
      "metadata": {
        "id": "9iRWdRV_lbKa"
      },
      "execution_count": null,
      "outputs": []
    },
    {
      "cell_type": "markdown",
      "source": [
        "CIFAR100-C"
      ],
      "metadata": {
        "id": "_QE_OKXqL_Kc"
      }
    },
    {
      "cell_type": "code",
      "source": [
        "dataset=\"cifar100\"\n",
        "model=\"net\""
      ],
      "metadata": {
        "id": "vGy8F-2wL_Kd"
      },
      "execution_count": null,
      "outputs": []
    },
    {
      "cell_type": "code",
      "source": [
        "#number of classes for CIFAR-100 is 100\n",
        "net = ResNeXt.resnext29(num_classes=100)\n",
        "\n",
        "# Distribute model across all visible GPUs\n",
        "import torch.backends.cudnn as cudnn\n",
        "torch.cuda.is_available()\n",
        "net = torch.nn.DataParallel(net).cuda()\n",
        "cudnn.benchmark = True"
      ],
      "metadata": {
        "id": "RkFAmX1RL_Kd"
      },
      "execution_count": null,
      "outputs": []
    },
    {
      "cell_type": "markdown",
      "source": [
        "Checking clean model gives expected error (around 99% for 100 categories)"
      ],
      "metadata": {
        "id": "v91P1uNgL_Kd"
      }
    },
    {
      "cell_type": "code",
      "source": [
        "test_loss, test_acc = test(net, test_dataloader_C100)\n",
        "print('Clean\\n\\tTest Loss {:.3f} | Test Error {:.2f}'.format(\n",
        "test_loss, 100 - 100. * test_acc))\n",
        "\n",
        "scheduler = torch.optim.lr_scheduler.LambdaLR(\n",
        "    optimizer,\n",
        "    lr_lambda=lambda step: get_lr(  # pylint: disable=g-long-lambda\n",
        "        step,\n",
        "        no_epochs * len(train_dataloader_C100),\n",
        "        1,  # lr_lambda computes multiplicative factor\n",
        "        1e-6 / learning_rate))\n",
        "\n",
        "#define a path for saving the data\n",
        "log_path = os.path.join(dataset + '_' + model + '_training_log.csv')\n",
        "with open(log_path, 'w') as f:\n",
        "  f.write('epoch,time(s),train_loss,test_loss,test_error(%)\\n')"
      ],
      "metadata": {
        "id": "Q_nLhRU8L_Kd"
      },
      "execution_count": null,
      "outputs": []
    },
    {
      "cell_type": "markdown",
      "source": [
        "Training and testing for CIFAR100, testing also on CIFAR100-C"
      ],
      "metadata": {
        "id": "y-oszYK9L_Ke"
      }
    },
    {
      "cell_type": "code",
      "source": [
        "# If execution crashes, uncomment the following line to learn more about\n",
        "# PyTorch CUDA memory summary\n",
        "\n",
        "# print(torch.cuda.memory_summary(device=None, abbreviated=False))\n",
        "\n",
        "start_epoch=0\n",
        "best_acc = 0\n",
        "print('Beginning training from epoch:', start_epoch + 1)\n",
        "\n",
        "for epoch in range(start_epoch, no_epochs):\n",
        "    begin_time = time.time()\n",
        "\n",
        "    train_loss_ema = train(net, train_dataloader_C100, optimizer, scheduler)\n",
        "    test_loss, test_acc = test(net, test_dataloader_C100)\n",
        "\n",
        "    is_best = test_acc > best_acc\n",
        "    best_acc = max(test_acc, best_acc)\n",
        "    checkpoint = {\n",
        "        'epoch': epoch,\n",
        "        'dataset': dataset,\n",
        "        'model': model,\n",
        "        'state_dict': net.state_dict(),\n",
        "        'best_acc': best_acc,\n",
        "        'optimizer': optimizer.state_dict(),\n",
        "    }\n",
        "\n",
        "    save_path = os.path.join('checkpoint.pth.tar')\n",
        "    torch.save(checkpoint, save_path)\n",
        "    if is_best:\n",
        "      shutil.copyfile(save_path, os.path.join('model_best.pth.tar'))\n",
        "\n",
        "    with open(log_path, 'a') as f:\n",
        "      f.write('%03d,%05d,%0.6f,%0.5f,%0.2f\\n' % (\n",
        "          (epoch + 1),\n",
        "          time.time() - begin_time,\n",
        "          train_loss_ema,\n",
        "          test_loss,\n",
        "          100 - 100. * test_acc,\n",
        "      ))\n",
        "\n",
        "    print(\n",
        "        'Epoch {0:3d} | Time {1:5d} | Train Loss {2:.4f} | Test Loss {3:.3f} |'\n",
        "        ' Test Error {4:.2f}'\n",
        "        .format((epoch + 1), int(time.time() - begin_time), train_loss_ema,\n",
        "                test_loss, 100 - 100. * test_acc))"
      ],
      "metadata": {
        "id": "uXJQW0KuL_Ke"
      },
      "execution_count": null,
      "outputs": []
    },
    {
      "cell_type": "code",
      "source": [
        "test_loss, test_acc = test(net, test_dataloader_C100)\n",
        "print('Clean\\n\\tTest Loss {:.3f} | Test Error {:.2f}'.format(test_loss, 100 - 100. * test_acc))\n",
        "\n",
        "test_c_accs = test_c(net, test_dataset_C100, base_c_path_100)\n",
        "test_c_acc = np.mean(test_c_accs)\n",
        "print('Mean Corruption Error: {:.3f}'.format(100 - 100. * test_c_acc))"
      ],
      "metadata": {
        "id": "Kz-kofb0L_Ke"
      },
      "execution_count": null,
      "outputs": []
    },
    {
      "cell_type": "markdown",
      "source": [
        "Now we try with model ***AllConvNet***. "
      ],
      "metadata": {
        "id": "2T9vFVw9c9wS"
      }
    },
    {
      "cell_type": "code",
      "source": [
        "dataset=\"cifar10\"\n",
        "model=\"net\"\n",
        "\n",
        "#number of classes for CIFAR-10 is 10\n",
        "net = AllConvNet.AllConvNet(num_classes=10)\n",
        "\n",
        "optimizer = torch.optim.SGD(\n",
        "      net.parameters(),\n",
        "      learning_rate,\n",
        "      momentum=momentum,\n",
        "      weight_decay=decay,\n",
        "      nesterov=True)\n",
        "\n",
        "\n",
        "# Distribute model across all visible GPUs\n",
        "import torch.backends.cudnn as cudnn\n",
        "torch.cuda.is_available()\n",
        "net = torch.nn.DataParallel(net).cuda()\n",
        "cudnn.benchmark = True"
      ],
      "metadata": {
        "id": "VV_BkXc9dHEp"
      },
      "execution_count": null,
      "outputs": []
    },
    {
      "cell_type": "markdown",
      "source": [
        "Checking clean model gives expected error (around 90% for 10 categories)"
      ],
      "metadata": {
        "id": "WZWoMnR8jz_x"
      }
    },
    {
      "cell_type": "code",
      "source": [
        "test_loss, test_acc = test(net, test_dataloader_C10)\n",
        "print('Clean\\n\\tTest Loss {:.3f} | Test Error {:.2f}'.format(\n",
        "test_loss, 100 - 100. * test_acc))\n",
        "\n",
        "scheduler = torch.optim.lr_scheduler.LambdaLR(\n",
        "    optimizer,\n",
        "    lr_lambda=lambda step: get_lr(  # pylint: disable=g-long-lambda\n",
        "        step,\n",
        "        no_epochs * len(train_dataloader_C10),\n",
        "        1,  # lr_lambda computes multiplicative factor\n",
        "        1e-6 / learning_rate))\n",
        "\n",
        "#define a path for saving the data\n",
        "log_path = os.path.join(dataset + '_' + model + '_training_log.csv')\n",
        "with open(log_path, 'w') as f:\n",
        "  f.write('epoch,time(s),train_loss,test_loss,test_error(%)\\n')"
      ],
      "metadata": {
        "id": "MAHao0ngj0fh"
      },
      "execution_count": null,
      "outputs": []
    },
    {
      "cell_type": "markdown",
      "source": [
        "Training and testing for CIFAR10, testing also on CIFAR10-C"
      ],
      "metadata": {
        "id": "uJF_Zk_Q_qsa"
      }
    },
    {
      "cell_type": "code",
      "source": [
        "# If execution crashes, uncomment the following line to learn more about\n",
        "# PyTorch CUDA memory summary\n",
        "\n",
        "# print(torch.cuda.memory_summary(device=None, abbreviated=False))\n",
        "\n",
        "start_epoch=0\n",
        "best_acc = 0\n",
        "print('Beginning training from epoch:', start_epoch + 1)\n",
        "\n",
        "for epoch in range(start_epoch, no_epochs):\n",
        "    begin_time = time.time()\n",
        "\n",
        "    train_loss_ema = train(net, train_dataloader_C10, optimizer, scheduler)\n",
        "    test_loss, test_acc = test(net, test_dataloader_C10)\n",
        "\n",
        "    is_best = test_acc > best_acc\n",
        "    best_acc = max(test_acc, best_acc)\n",
        "    checkpoint = {\n",
        "        'epoch': epoch,\n",
        "        'dataset': dataset,\n",
        "        'model': model,\n",
        "        'state_dict': net.state_dict(),\n",
        "        'best_acc': best_acc,\n",
        "        'optimizer': optimizer.state_dict(),\n",
        "    }\n",
        "\n",
        "    save_path = os.path.join('checkpoint.pth.tar')\n",
        "    torch.save(checkpoint, save_path)\n",
        "    if is_best:\n",
        "      shutil.copyfile(save_path, os.path.join('model_best.pth.tar'))\n",
        "\n",
        "    with open(log_path, 'a') as f:\n",
        "      f.write('%03d,%05d,%0.6f,%0.5f,%0.2f\\n' % (\n",
        "          (epoch + 1),\n",
        "          time.time() - begin_time,\n",
        "          train_loss_ema,\n",
        "          test_loss,\n",
        "          100 - 100. * test_acc,\n",
        "      ))\n",
        "\n",
        "    print(\n",
        "        'Epoch {0:3d} | Time {1:5d} | Train Loss {2:.4f} | Test Loss {3:.3f} |'\n",
        "        ' Test Error {4:.2f}'\n",
        "        .format((epoch + 1), int(time.time() - begin_time), train_loss_ema,\n",
        "                test_loss, 100 - 100. * test_acc))"
      ],
      "metadata": {
        "id": "FUOGfMklj7aq"
      },
      "execution_count": null,
      "outputs": []
    },
    {
      "cell_type": "code",
      "source": [
        "test_loss, test_acc = test(net, test_dataloader_C10)\n",
        "print('Clean\\n\\tTest Loss {:.3f} | Test Error {:.2f}'.format(test_loss, 100 - 100. * test_acc))\n",
        "\n",
        "test_c_accs = test_c(net, test_dataset_C10, base_c_path)\n",
        "test_c_acc = np.mean(test_c_accs)\n",
        "print('Mean Corruption Error: {:.3f}'.format(100 - 100. * test_c_acc))"
      ],
      "metadata": {
        "id": "UCMdKIqAld6I"
      },
      "execution_count": null,
      "outputs": []
    },
    {
      "cell_type": "markdown",
      "source": [
        "Training and testing for CIFAR100, testing also on CIFAR100-C"
      ],
      "metadata": {
        "id": "lMZfzb8j6CNz"
      }
    },
    {
      "cell_type": "code",
      "source": [
        "dataset=\"cifar100\"\n",
        "model=\"net\""
      ],
      "metadata": {
        "id": "dzAG82UN6Dux"
      },
      "execution_count": null,
      "outputs": []
    },
    {
      "cell_type": "code",
      "source": [
        "#number of classes for CIFAR-100 is 100\n",
        "net = AllConvNet.AllConvNet(num_classes=100)\n",
        "\n",
        "# Distribute model across all visible GPUs\n",
        "import torch.backends.cudnn as cudnn\n",
        "torch.cuda.is_available()\n",
        "net = torch.nn.DataParallel(net).cuda()\n",
        "cudnn.benchmark = True"
      ],
      "metadata": {
        "id": "lrB8fBEe6LG6"
      },
      "execution_count": null,
      "outputs": []
    },
    {
      "cell_type": "markdown",
      "source": [
        "Checking clean model gives expected error (around 99% for 100 categories)"
      ],
      "metadata": {
        "id": "sm_4MfZs6YO6"
      }
    },
    {
      "cell_type": "code",
      "source": [
        "test_loss, test_acc = test(net, test_dataloader_C100)\n",
        "print('Clean\\n\\tTest Loss {:.3f} | Test Error {:.2f}'.format(\n",
        "test_loss, 100 - 100. * test_acc))\n",
        "\n",
        "scheduler = torch.optim.lr_scheduler.LambdaLR(\n",
        "    optimizer,\n",
        "    lr_lambda=lambda step: get_lr(  # pylint: disable=g-long-lambda\n",
        "        step,\n",
        "        no_epochs * len(train_dataloader_C100),\n",
        "        1,  # lr_lambda computes multiplicative factor\n",
        "        1e-6 / learning_rate))\n",
        "\n",
        "#define a path for saving the data\n",
        "log_path = os.path.join(dataset + '_' + model + '_training_log.csv')\n",
        "with open(log_path, 'w') as f:\n",
        "  f.write('epoch,time(s),train_loss,test_loss,test_error(%)\\n')"
      ],
      "metadata": {
        "id": "zsBqVJuB8nAr"
      },
      "execution_count": null,
      "outputs": []
    },
    {
      "cell_type": "markdown",
      "source": [
        "Training and testing for CIFAR100, testing also on CIFAR100-C"
      ],
      "metadata": {
        "id": "uHcI5A5D88xJ"
      }
    },
    {
      "cell_type": "code",
      "source": [
        "# If execution crashes, uncomment the following line to learn more about\n",
        "# PyTorch CUDA memory summary\n",
        "\n",
        "# print(torch.cuda.memory_summary(device=None, abbreviated=False))\n",
        "\n",
        "start_epoch=0\n",
        "best_acc = 0\n",
        "print('Beginning training from epoch:', start_epoch + 1)\n",
        "\n",
        "for epoch in range(start_epoch, no_epochs):\n",
        "    begin_time = time.time()\n",
        "\n",
        "    train_loss_ema = train(net, train_dataloader_C100, optimizer, scheduler)\n",
        "    test_loss, test_acc = test(net, test_dataloader_C100)\n",
        "\n",
        "    is_best = test_acc > best_acc\n",
        "    best_acc = max(test_acc, best_acc)\n",
        "    checkpoint = {\n",
        "        'epoch': epoch,\n",
        "        'dataset': dataset,\n",
        "        'model': model,\n",
        "        'state_dict': net.state_dict(),\n",
        "        'best_acc': best_acc,\n",
        "        'optimizer': optimizer.state_dict(),\n",
        "    }\n",
        "\n",
        "    save_path = os.path.join('checkpoint.pth.tar')\n",
        "    torch.save(checkpoint, save_path)\n",
        "    if is_best:\n",
        "      shutil.copyfile(save_path, os.path.join('model_best.pth.tar'))\n",
        "\n",
        "    with open(log_path, 'a') as f:\n",
        "      f.write('%03d,%05d,%0.6f,%0.5f,%0.2f\\n' % (\n",
        "          (epoch + 1),\n",
        "          time.time() - begin_time,\n",
        "          train_loss_ema,\n",
        "          test_loss,\n",
        "          100 - 100. * test_acc,\n",
        "      ))\n",
        "\n",
        "    print(\n",
        "        'Epoch {0:3d} | Time {1:5d} | Train Loss {2:.4f} | Test Loss {3:.3f} |'\n",
        "        ' Test Error {4:.2f}'\n",
        "        .format((epoch + 1), int(time.time() - begin_time), train_loss_ema,\n",
        "                test_loss, 100 - 100. * test_acc))"
      ],
      "metadata": {
        "id": "Cfsbvf7W87hK"
      },
      "execution_count": null,
      "outputs": []
    },
    {
      "cell_type": "code",
      "source": [
        "test_loss, test_acc = test(net, test_dataloader_C100)\n",
        "print('Clean\\n\\tTest Loss {:.3f} | Test Error {:.2f}'.format(test_loss, 100 - 100. * test_acc))\n",
        "\n",
        "test_c_accs = test_c(net, test_dataset_C100, base_c_path_100)\n",
        "test_c_acc = np.mean(test_c_accs)\n",
        "print('Mean Corruption Error: {:.3f}'.format(100 - 100. * test_c_acc))"
      ],
      "metadata": {
        "id": "ttAahCYTMcsz"
      },
      "execution_count": null,
      "outputs": []
    },
    {
      "cell_type": "markdown",
      "source": [
        "Finally, we try with model ***WideResNet***. "
      ],
      "metadata": {
        "id": "sGlBzYJvj7Rw"
      }
    },
    {
      "cell_type": "code",
      "source": [
        "dataset=\"cifar10\"\n",
        "model=\"net\"\n",
        "depth = args['layers']\n",
        "\n",
        "#number of classes for CIFAR-10 is 10\n",
        "net = WideResNet.WideResNet(depth=depth, num_classes=10)\n",
        "\n",
        "optimizer = torch.optim.SGD(\n",
        "      net.parameters(),\n",
        "      learning_rate,\n",
        "      momentum=momentum,\n",
        "      weight_decay=decay,\n",
        "      nesterov=True)\n",
        "\n",
        "\n",
        "# Distribute model across all visible GPUs\n",
        "import torch.backends.cudnn as cudnn\n",
        "torch.cuda.is_available()\n",
        "net = torch.nn.DataParallel(net).cuda()\n",
        "cudnn.benchmark = True"
      ],
      "metadata": {
        "id": "AZCXABsyy-DL"
      },
      "execution_count": null,
      "outputs": []
    },
    {
      "cell_type": "markdown",
      "source": [
        "Checking clean model gives expected error (around 90% for 10 categories)"
      ],
      "metadata": {
        "id": "3-Rq824u0gZL"
      }
    },
    {
      "cell_type": "code",
      "source": [
        "test_loss, test_acc = test(net, test_dataloader_C10)\n",
        "print('Clean\\n\\tTest Loss {:.3f} | Test Error {:.2f}'.format(\n",
        "test_loss, 100 - 100. * test_acc))\n",
        "\n",
        "scheduler = torch.optim.lr_scheduler.LambdaLR(\n",
        "    optimizer,\n",
        "    lr_lambda=lambda step: get_lr(  # pylint: disable=g-long-lambda\n",
        "        step,\n",
        "        no_epochs * len(train_dataloader_C10),\n",
        "        1,  # lr_lambda computes multiplicative factor\n",
        "        1e-6 / learning_rate))\n",
        "\n",
        "#define a path for saving the data\n",
        "log_path = os.path.join(dataset + '_' + model + '_training_log.csv')\n",
        "with open(log_path, 'w') as f:\n",
        "  f.write('epoch,time(s),train_loss,test_loss,test_error(%)\\n')"
      ],
      "metadata": {
        "id": "rMgDd4df0gtD"
      },
      "execution_count": null,
      "outputs": []
    },
    {
      "cell_type": "markdown",
      "source": [
        "Training and testing for CIFAR10, testing also on CIFAR10-C"
      ],
      "metadata": {
        "id": "5-PnAC3q5ilK"
      }
    },
    {
      "cell_type": "code",
      "source": [
        "dataset=\"cifar10\"\n",
        "model=\"net\"\n",
        "\n",
        "# If execution crashes, uncomment the following line to learn more about\n",
        "# PyTorch CUDA memory summary\n",
        "#print(torch.cuda.memory_summary(device=None, abbreviated=False))\n",
        "\n",
        "start_epoch=0\n",
        "best_acc = 0\n",
        "print('Beginning training from epoch:', start_epoch + 1)\n",
        "\n",
        "for epoch in range(start_epoch, no_epochs):\n",
        "    begin_time = time.time()\n",
        "\n",
        "    train_loss_ema = train(net, train_dataloader_C10, optimizer, scheduler)\n",
        "    test_loss, test_acc = test(net, test_dataloader_C10)\n",
        "\n",
        "    is_best = test_acc > best_acc\n",
        "    best_acc = max(test_acc, best_acc)\n",
        "    checkpoint = {\n",
        "        'epoch': epoch,\n",
        "        'dataset': dataset,\n",
        "        'model': model,\n",
        "        'state_dict': net.state_dict(),\n",
        "        'best_acc': best_acc,\n",
        "        'optimizer': optimizer.state_dict(),\n",
        "    }\n",
        "\n",
        "    save_path = os.path.join('checkpoint.pth.tar')\n",
        "    torch.save(checkpoint, save_path)\n",
        "    if is_best:\n",
        "      shutil.copyfile(save_path, os.path.join('model_best.pth.tar'))\n",
        "\n",
        "    with open(log_path, 'a') as f:\n",
        "      f.write('%03d,%05d,%0.6f,%0.5f,%0.2f\\n' % (\n",
        "          (epoch + 1),\n",
        "          time.time() - begin_time,\n",
        "          train_loss_ema,\n",
        "          test_loss,\n",
        "          100 - 100. * test_acc,\n",
        "      ))\n",
        "\n",
        "    print(\n",
        "        'Epoch {0:3d} | Time {1:5d} | Train Loss {2:.4f} | Test Loss {3:.3f} |'\n",
        "        ' Test Error {4:.2f}'\n",
        "        .format((epoch + 1), int(time.time() - begin_time), train_loss_ema,\n",
        "                test_loss, 100 - 100. * test_acc))"
      ],
      "metadata": {
        "id": "kEjx1JGS5ji6"
      },
      "execution_count": null,
      "outputs": []
    },
    {
      "cell_type": "code",
      "source": [
        "test_loss, test_acc = test(net, test_dataloader_C10)\n",
        "print('Clean\\n\\tTest Loss {:.3f} | Test Error {:.2f}'.format(test_loss, 100 - 100. * test_acc))\n",
        "\n",
        "test_c_accs = test_c(net, test_dataset_C10, base_c_path)\n",
        "test_c_acc = np.mean(test_c_accs)\n",
        "print('Mean Corruption Error: {:.3f}'.format(100 - 100. * test_c_acc))"
      ],
      "metadata": {
        "id": "CB_9mgVg5wlp"
      },
      "execution_count": null,
      "outputs": []
    },
    {
      "cell_type": "markdown",
      "source": [
        "Training and testing for CIFAR100, testing also on CIFAR100-C"
      ],
      "metadata": {
        "id": "4wwoEMvk5ray"
      }
    },
    {
      "cell_type": "code",
      "source": [
        "dataset=\"cifar100\"\n",
        "model=\"net\""
      ],
      "metadata": {
        "id": "9OmZ-2-36FYS"
      },
      "execution_count": null,
      "outputs": []
    },
    {
      "cell_type": "code",
      "source": [
        "#number of classes for CIFAR-100 is 100\n",
        "net = WideResNet.WideResNet(depth=depth, num_classes=10)\n",
        "\n",
        "# Distribute model across all visible GPUs\n",
        "import torch.backends.cudnn as cudnn\n",
        "torch.cuda.is_available()\n",
        "net = torch.nn.DataParallel(net).cuda()\n",
        "cudnn.benchmark = True"
      ],
      "metadata": {
        "id": "3UPIPqbn6MUJ"
      },
      "execution_count": null,
      "outputs": []
    },
    {
      "cell_type": "markdown",
      "source": [
        "Checking clean model gives expected error (around 99% for 100 categories)"
      ],
      "metadata": {
        "id": "rMs_qmyJ6VPS"
      }
    },
    {
      "cell_type": "code",
      "source": [
        "test_loss, test_acc = test(net, test_dataloader_C100)\n",
        "print('Clean\\n\\tTest Loss {:.3f} | Test Error {:.2f}'.format(\n",
        "test_loss, 100 - 100. * test_acc))\n",
        "\n",
        "scheduler = torch.optim.lr_scheduler.LambdaLR(\n",
        "    optimizer,\n",
        "    lr_lambda=lambda step: get_lr(  # pylint: disable=g-long-lambda\n",
        "        step,\n",
        "        no_epochs * len(train_dataloader_C100),\n",
        "        1,  # lr_lambda computes multiplicative factor\n",
        "        1e-6 / learning_rate))\n",
        "\n",
        "#define a path for saving the data\n",
        "log_path = os.path.join(dataset + '_' + model + '_training_log.csv')\n",
        "with open(log_path, 'w') as f:\n",
        "  f.write('epoch,time(s),train_loss,test_loss,test_error(%)\\n')"
      ],
      "metadata": {
        "id": "woFELI8u8r8p"
      },
      "execution_count": null,
      "outputs": []
    },
    {
      "cell_type": "code",
      "source": [
        "# If execution crashes, uncomment the following line to learn more about\n",
        "# PyTorch CUDA memory summary\n",
        "\n",
        "# print(torch.cuda.memory_summary(device=None, abbreviated=False))\n",
        "\n",
        "start_epoch=0\n",
        "best_acc = 0\n",
        "print('Beginning training from epoch:', start_epoch + 1)\n",
        "\n",
        "for epoch in range(start_epoch, no_epochs):\n",
        "    begin_time = time.time()\n",
        "\n",
        "    train_loss_ema = train(net, train_dataloader_C100, optimizer, scheduler)\n",
        "    test_loss, test_acc = test(net, test_dataloader_C100)\n",
        "\n",
        "    is_best = test_acc > best_acc\n",
        "    best_acc = max(test_acc, best_acc)\n",
        "    checkpoint = {\n",
        "        'epoch': epoch,\n",
        "        'dataset': dataset,\n",
        "        'model': model,\n",
        "        'state_dict': net.state_dict(),\n",
        "        'best_acc': best_acc,\n",
        "        'optimizer': optimizer.state_dict(),\n",
        "    }\n",
        "\n",
        "    save_path = os.path.join('checkpoint.pth.tar')\n",
        "    torch.save(checkpoint, save_path)\n",
        "    if is_best:\n",
        "      shutil.copyfile(save_path, os.path.join('model_best.pth.tar'))\n",
        "\n",
        "    with open(log_path, 'a') as f:\n",
        "      f.write('%03d,%05d,%0.6f,%0.5f,%0.2f\\n' % (\n",
        "          (epoch + 1),\n",
        "          time.time() - begin_time,\n",
        "          train_loss_ema,\n",
        "          test_loss,\n",
        "          100 - 100. * test_acc,\n",
        "      ))\n",
        "\n",
        "    print(\n",
        "        'Epoch {0:3d} | Time {1:5d} | Train Loss {2:.4f} | Test Loss {3:.3f} |'\n",
        "        ' Test Error {4:.2f}'\n",
        "        .format((epoch + 1), int(time.time() - begin_time), train_loss_ema,\n",
        "                test_loss, 100 - 100. * test_acc))"
      ],
      "metadata": {
        "id": "U4nMzKTf8_cM"
      },
      "execution_count": null,
      "outputs": []
    },
    {
      "cell_type": "code",
      "source": [
        "test_loss, test_acc = test(net, test_dataloader_C100)\n",
        "print('Clean\\n\\tTest Loss {:.3f} | Test Error {:.2f}'.format(test_loss, 100 - 100. * test_acc))\n",
        "\n",
        "test_c_accs = test_c(net, test_dataset_C100, base_c_path_100)\n",
        "test_c_acc = np.mean(test_c_accs)\n",
        "print('Mean Corruption Error: {:.3f}'.format(100 - 100. * test_c_acc))"
      ],
      "metadata": {
        "id": "ABg7RyFp-C8Z"
      },
      "execution_count": null,
      "outputs": []
    },
    {
      "cell_type": "markdown",
      "source": [
        "# A pointless extension"
      ],
      "metadata": {
        "id": "WLwQp99l3iOW"
      }
    },
    {
      "cell_type": "code",
      "source": [
        "def rand_bbox(size, lam):\n",
        "    W = size[2]\n",
        "    H = size[3]\n",
        "    cut_rat = np.sqrt(1. - lam)\n",
        "    cut_w = np.int(W * cut_rat)\n",
        "    cut_h = np.int(H * cut_rat)\n",
        "\n",
        "    # uniform\n",
        "    cx = np.random.randint(W)\n",
        "    cy = np.random.randint(H)\n",
        "\n",
        "    bbx1 = np.clip(cx - cut_w // 2, 0, W)\n",
        "    bby1 = np.clip(cy - cut_h // 2, 0, H)\n",
        "    bbx2 = np.clip(cx + cut_w // 2, 0, W)\n",
        "    bby2 = np.clip(cy + cut_h // 2, 0, H)\n",
        "\n",
        "    return bbx1, bby1, bbx2, bby2"
      ],
      "metadata": {
        "id": "oL86Espo4SmF"
      },
      "execution_count": null,
      "outputs": []
    },
    {
      "cell_type": "code",
      "source": [
        "#This is the training function. We set no_jsd to 1 to disable the Jensen-Shannon\n",
        "#Divergence loss term (at the cost of slightly lower performance). \n",
        "#We also commented scheduler to decrease the computation load.\n",
        "def train(net, train_loader, optimizer, scheduler):\n",
        "  \"\"\"Train for one epoch.\"\"\"\n",
        "  net.train()\n",
        "  no_jsd=1\n",
        "  loss_ema = 0.\n",
        "  for i, (images, targets) in enumerate(train_loader):\n",
        "    optimizer.zero_grad()\n",
        "\n",
        "    if no_jsd:\n",
        "      images = images.cuda()\n",
        "      targets = targets.cuda()\n",
        "      r = np.random.rand(1)\n",
        "      if  r < 0.5:\n",
        "            lam = np.random.beta(1, 0.1)\n",
        "            rand_index = torch.randperm(images.size()[0]).cuda()\n",
        "            target_a = targets\n",
        "            target_b = targets[rand_index]\n",
        "            bbx1, bby1, bbx2, bby2 = rand_bbox(images.size(), lam)\n",
        "            images[:, :, bbx1:bbx2, bby1:bby2] = images[rand_index, :, bbx1:bbx2, bby1:bby2] \n",
        "      logits = net(images)\n",
        "      loss = F.cross_entropy(logits, targets)\n",
        "    else:\n",
        "      images_all = torch.cat(images, 0).cuda()\n",
        "      targets = targets.cuda()\n",
        "      logits_all = net(images_all)\n",
        "      logits_clean, logits_aug1, logits_aug2 = torch.split(\n",
        "          logits_all, images[0].size(0))\n",
        "\n",
        "      # Cross-entropy is only computed on clean images\n",
        "      loss = F.cross_entropy(logits_clean, targets)\n",
        "\n",
        "      p_clean, p_aug1, p_aug2 = F.softmax(\n",
        "          logits_clean, dim=1), F.softmax(\n",
        "              logits_aug1, dim=1), F.softmax(\n",
        "                  logits_aug2, dim=1)\n",
        "\n",
        "      # Clamp mixture distribution to avoid exploding KL divergence\n",
        "      p_mixture = torch.clamp((p_clean + p_aug1 + p_aug2) / 3., 1e-7, 1).log()\n",
        "      loss += 12 * (F.kl_div(p_mixture, p_clean, reduction='batchmean') +\n",
        "                    F.kl_div(p_mixture, p_aug1, reduction='batchmean') +\n",
        "                    F.kl_div(p_mixture, p_aug2, reduction='batchmean')) / 3.\n",
        "\n",
        "    loss.backward()\n",
        "    optimizer.step()\n",
        "    scheduler.step()\n",
        "    loss_ema = loss_ema * 0.9 + float(loss) * 0.1\n",
        "    if i % print_frequency == 0:\n",
        "      print('Train Loss {:.3f}'.format(loss_ema))\n",
        "\n",
        "  return loss_ema"
      ],
      "metadata": {
        "id": "jtT4Caaa4UiU"
      },
      "execution_count": null,
      "outputs": []
    },
    {
      "cell_type": "code",
      "source": [
        "def run_model(net, train_loader, optimizer, scheduler):\n",
        "\n",
        "    dataset=\"cifar10\"\n",
        "    model=\"net\"\n",
        "\n",
        "    # If execution crashes, uncomment the following line to learn more about\n",
        "    # PyTorch CUDA memory summary\n",
        "    #print(torch.cuda.memory_summary(device=None, abbreviated=False))\n",
        "\n",
        "    start_epoch=0\n",
        "    best_acc = 0\n",
        "    print('Beginning training from epoch:', start_epoch + 1)\n",
        "\n",
        "    for epoch in range(start_epoch, no_epochs):\n",
        "        begin_time = time.time()\n",
        "\n",
        "        train_loss_ema = train(net, train_loader, optimizer, scheduler)\n",
        "        test_loss, test_acc = test(net, test_dataloader_C10)\n",
        "\n",
        "        is_best = test_acc > best_acc\n",
        "        best_acc = max(test_acc, best_acc)\n",
        "        checkpoint = {\n",
        "            'epoch': epoch,\n",
        "            'dataset': dataset,\n",
        "            'model': model,\n",
        "            'state_dict': net.state_dict(),\n",
        "            'best_acc': best_acc,\n",
        "            'optimizer': optimizer.state_dict(),\n",
        "        }\n",
        "\n",
        "        save_path = os.path.join('checkpoint.pth.tar')\n",
        "        torch.save(checkpoint, save_path)\n",
        "        if is_best:\n",
        "            shutil.copyfile(save_path, os.path.join('model_best.pth.tar'))\n",
        "\n",
        "        with open(log_path, 'a') as f:\n",
        "            f.write('%03d,%05d,%0.6f,%0.5f,%0.2f\\n' % (\n",
        "                (epoch + 1),\n",
        "                time.time() - begin_time,\n",
        "                train_loss_ema,\n",
        "                test_loss,\n",
        "                100 - 100. * test_acc,\n",
        "            ))\n",
        "\n",
        "        print(\n",
        "            'Epoch {0:3d} | Time {1:5d} | Train Loss {2:.4f} | Test Loss {3:.3f} |'\n",
        "            ' Test Error {4:.2f}'\n",
        "            .format((epoch + 1), int(time.time() - begin_time), train_loss_ema,\n",
        "                    test_loss, 100 - 100. * test_acc))"
      ],
      "metadata": {
        "id": "X0GEAXPF4VP4"
      },
      "execution_count": null,
      "outputs": []
    },
    {
      "cell_type": "code",
      "source": [
        "# With AugMix\n",
        "test_loss, test_acc = test(net, test_dataloader_C10)\n",
        "print('Clean\\n\\tTest Loss {:.3f} | Test Error {:.2f}'.format(test_loss, 100 - 100. * test_acc))\n",
        "\n",
        "test_c_accs = test_c(net, test_dataset_C10, base_c_path)\n",
        "test_c_acc = np.mean(test_c_accs)\n",
        "print('Mean Corruption Error: {:.3f}'.format(100 - 100. * test_c_acc))"
      ],
      "metadata": {
        "id": "L2sNik904Xuh",
        "colab": {
          "base_uri": "https://localhost:8080/"
        },
        "outputId": "b8cc00ad-faab-49e8-9237-72ef1c558150"
      },
      "execution_count": null,
      "outputs": [
        {
          "output_type": "stream",
          "name": "stdout",
          "text": [
            "Clean\n",
            "\tTest Loss 0.002 | Test Error 52.85\n",
            "gaussian_noise\n",
            "\tTest Loss 0.002 | Test Error 57.990\n",
            "shot_noise\n",
            "\tTest Loss 0.002 | Test Error 56.376\n",
            "impulse_noise\n",
            "\tTest Loss 0.002 | Test Error 60.646\n",
            "defocus_blur\n",
            "\tTest Loss 0.002 | Test Error 54.286\n",
            "glass_blur\n",
            "\tTest Loss 0.002 | Test Error 56.248\n",
            "motion_blur\n",
            "\tTest Loss 0.002 | Test Error 54.882\n",
            "zoom_blur\n",
            "\tTest Loss 0.002 | Test Error 55.048\n",
            "snow\n",
            "\tTest Loss 0.002 | Test Error 62.972\n",
            "frost\n",
            "\tTest Loss 0.002 | Test Error 62.752\n",
            "fog\n",
            "\tTest Loss 0.002 | Test Error 63.178\n",
            "brightness\n",
            "\tTest Loss 0.002 | Test Error 58.278\n",
            "contrast\n",
            "\tTest Loss 0.003 | Test Error 70.394\n",
            "elastic_transform\n",
            "\tTest Loss 0.002 | Test Error 54.756\n",
            "pixelate\n",
            "\tTest Loss 0.002 | Test Error 54.872\n",
            "jpeg_compression\n",
            "\tTest Loss 0.002 | Test Error 54.466\n",
            "Mean Corruption Error: 58.476\n"
          ]
        }
      ]
    },
    {
      "cell_type": "code",
      "source": [
        "run_model(net_std, train_dataloader_C10_std, optimizer_std, scheduler_std)"
      ],
      "metadata": {
        "id": "EjmxrmWU4Yxw",
        "colab": {
          "base_uri": "https://localhost:8080/"
        },
        "outputId": "d0081b8d-7403-402f-87ca-064f25d673d6"
      },
      "execution_count": null,
      "outputs": [
        {
          "output_type": "stream",
          "name": "stdout",
          "text": [
            "Beginning training from epoch: 1\n",
            "Train Loss 0.232\n",
            "Epoch   1 | Time    44 | Train Loss 1.6249 | Test Loss 0.002 | Test Error 73.25\n",
            "Train Loss 0.197\n",
            "Epoch   2 | Time    42 | Train Loss 1.3781 | Test Loss 0.002 | Test Error 58.00\n",
            "Train Loss 0.149\n",
            "Epoch   3 | Time    43 | Train Loss 1.3830 | Test Loss 0.002 | Test Error 62.78\n",
            "Train Loss 0.157\n",
            "Epoch   4 | Time    42 | Train Loss 1.1223 | Test Loss 0.003 | Test Error 66.63\n",
            "Train Loss 0.161\n",
            "Epoch   5 | Time    42 | Train Loss 1.0226 | Test Loss 0.002 | Test Error 58.37\n"
          ]
        }
      ]
    },
    {
      "cell_type": "code",
      "source": [
        "# Without AugMix\n",
        "test_loss_std, test_acc_std = test(net_std, test_dataloader_C10)\n",
        "print('Clean\\n\\tTest Loss {:.3f} | Test Error {:.2f}'.format(test_loss_std, 100 - 100. * test_acc_std))\n",
        "\n",
        "test_c_accs_std = test_c(net_std, test_dataset_C10, base_c_path)\n",
        "test_c_acc_std = np.mean(test_c_accs_std)\n",
        "print('Mean Corruption Error: {:.3f}'.format(100 - 100. * test_c_acc))"
      ],
      "metadata": {
        "id": "2eqsfaai4ZX_",
        "colab": {
          "base_uri": "https://localhost:8080/"
        },
        "outputId": "1081adb4-9923-400a-892f-68fe82537f0f"
      },
      "execution_count": null,
      "outputs": [
        {
          "output_type": "stream",
          "name": "stdout",
          "text": [
            "Clean\n",
            "\tTest Loss 0.002 | Test Error 58.37\n",
            "gaussian_noise\n",
            "\tTest Loss 0.002 | Test Error 65.828\n",
            "shot_noise\n",
            "\tTest Loss 0.002 | Test Error 62.070\n",
            "impulse_noise\n",
            "\tTest Loss 0.003 | Test Error 67.944\n",
            "defocus_blur\n",
            "\tTest Loss 0.002 | Test Error 67.170\n",
            "glass_blur\n",
            "\tTest Loss 0.002 | Test Error 64.764\n",
            "motion_blur\n",
            "\tTest Loss 0.003 | Test Error 78.096\n",
            "zoom_blur\n",
            "\tTest Loss 0.003 | Test Error 73.664\n",
            "snow\n",
            "\tTest Loss 0.002 | Test Error 63.368\n",
            "frost\n",
            "\tTest Loss 0.002 | Test Error 61.916\n",
            "fog\n",
            "\tTest Loss 0.002 | Test Error 67.030\n",
            "brightness\n",
            "\tTest Loss 0.002 | Test Error 58.282\n",
            "contrast\n",
            "\tTest Loss 0.003 | Test Error 73.734\n",
            "elastic_transform\n",
            "\tTest Loss 0.002 | Test Error 68.222\n",
            "pixelate\n",
            "\tTest Loss 0.002 | Test Error 52.152\n",
            "jpeg_compression\n",
            "\tTest Loss 0.002 | Test Error 58.374\n",
            "Mean Corruption Error: 58.476\n"
          ]
        }
      ]
    },
    {
      "cell_type": "code",
      "source": [
        "# TODO: the net has to be adapted for the standard and AugMix applications\n",
        "\n",
        "test_c_errs_Gutmix = np.subtract(1,test_c_accs) *100\n",
        "test_c_errs_std = np.subtract(1,test_c_accs_std) *100\n",
        "test_err_std = np.subtract(1,test_acc) *100\n",
        "\n",
        "fig = plt.figure(figsize=(10,4))\n",
        "ax = fig.add_axes([0,0,1,1])\n",
        "labels = ['Gaussian Noise','Shot Noise','Impulse Noise','Defocus Blur',\n",
        "          'Glass Blur','Motion Blur','Zoom Blur','Snow','Frost','Fog',\n",
        "          'Brightness','Contrast','Elastic Transform','Pixelate',\n",
        "          'JPEG Compression']\n",
        "x_axis = np.arange(len(labels))\n",
        "w = 0.1\n",
        "\n",
        "ax.yaxis.grid(zorder=0)\n",
        "\n",
        "plt.bar(x_axis-2*w, test_c_errs_std, w*2, label='Standard', zorder=3)\n",
        "plt.bar(x_axis, test_c_errs, w*2, label='AugMix', zorder=3)\n",
        "plt.bar(x_axis+2*w, test_c_errs_Gutmix, w*2, label='GutMix', zorder=3)\n",
        "\n",
        "plt.xticks(x_axis,labels,rotation=90)\n",
        "plt.title('CIFAR-10-C Error Rates for Each Corruption: Densenet')\n",
        "plt.ylabel('Error (%)')\n",
        "\n",
        "plt.axhline(y=test_err_std, linewidth=2, color='r', linestyle='--', label='Standard Clean Error', zorder=4)\n",
        "plt.legend()\n",
        "\n",
        "plt.savefig('corruptions.eps', format='eps', bbox_inches='tight')"
      ],
      "metadata": {
        "id": "Ru6OSquW4cLP",
        "colab": {
          "base_uri": "https://localhost:8080/",
          "height": 554
        },
        "outputId": "dcc15fd6-b7eb-4559-fc11-7d1c728252c8"
      },
      "execution_count": null,
      "outputs": [
        {
          "output_type": "error",
          "ename": "NameError",
          "evalue": "ignored",
          "traceback": [
            "\u001b[0;31m---------------------------------------------------------------------------\u001b[0m",
            "\u001b[0;31mNameError\u001b[0m                                 Traceback (most recent call last)",
            "\u001b[0;32m<ipython-input-47-d59dcff49bbd>\u001b[0m in \u001b[0;36m<module>\u001b[0;34m()\u001b[0m\n\u001b[1;32m     17\u001b[0m \u001b[0;34m\u001b[0m\u001b[0m\n\u001b[1;32m     18\u001b[0m \u001b[0mplt\u001b[0m\u001b[0;34m.\u001b[0m\u001b[0mbar\u001b[0m\u001b[0;34m(\u001b[0m\u001b[0mx_axis\u001b[0m\u001b[0;34m-\u001b[0m\u001b[0;36m2\u001b[0m\u001b[0;34m*\u001b[0m\u001b[0mw\u001b[0m\u001b[0;34m,\u001b[0m \u001b[0mtest_c_errs_std\u001b[0m\u001b[0;34m,\u001b[0m \u001b[0mw\u001b[0m\u001b[0;34m*\u001b[0m\u001b[0;36m2\u001b[0m\u001b[0;34m,\u001b[0m \u001b[0mlabel\u001b[0m\u001b[0;34m=\u001b[0m\u001b[0;34m'Standard'\u001b[0m\u001b[0;34m,\u001b[0m \u001b[0mzorder\u001b[0m\u001b[0;34m=\u001b[0m\u001b[0;36m3\u001b[0m\u001b[0;34m)\u001b[0m\u001b[0;34m\u001b[0m\u001b[0;34m\u001b[0m\u001b[0m\n\u001b[0;32m---> 19\u001b[0;31m \u001b[0mplt\u001b[0m\u001b[0;34m.\u001b[0m\u001b[0mbar\u001b[0m\u001b[0;34m(\u001b[0m\u001b[0mx_axis\u001b[0m\u001b[0;34m,\u001b[0m \u001b[0mtest_c_errs\u001b[0m\u001b[0;34m,\u001b[0m \u001b[0mw\u001b[0m\u001b[0;34m*\u001b[0m\u001b[0;36m2\u001b[0m\u001b[0;34m,\u001b[0m \u001b[0mlabel\u001b[0m\u001b[0;34m=\u001b[0m\u001b[0;34m'AugMix'\u001b[0m\u001b[0;34m,\u001b[0m \u001b[0mzorder\u001b[0m\u001b[0;34m=\u001b[0m\u001b[0;36m3\u001b[0m\u001b[0;34m)\u001b[0m\u001b[0;34m\u001b[0m\u001b[0;34m\u001b[0m\u001b[0m\n\u001b[0m\u001b[1;32m     20\u001b[0m \u001b[0mplt\u001b[0m\u001b[0;34m.\u001b[0m\u001b[0mbar\u001b[0m\u001b[0;34m(\u001b[0m\u001b[0mx_axis\u001b[0m\u001b[0;34m+\u001b[0m\u001b[0;36m2\u001b[0m\u001b[0;34m*\u001b[0m\u001b[0mw\u001b[0m\u001b[0;34m,\u001b[0m \u001b[0mtest_c_errs_Gutmix\u001b[0m\u001b[0;34m,\u001b[0m \u001b[0mw\u001b[0m\u001b[0;34m*\u001b[0m\u001b[0;36m2\u001b[0m\u001b[0;34m,\u001b[0m \u001b[0mlabel\u001b[0m\u001b[0;34m=\u001b[0m\u001b[0;34m'GutMix'\u001b[0m\u001b[0;34m,\u001b[0m \u001b[0mzorder\u001b[0m\u001b[0;34m=\u001b[0m\u001b[0;36m3\u001b[0m\u001b[0;34m)\u001b[0m\u001b[0;34m\u001b[0m\u001b[0;34m\u001b[0m\u001b[0m\n\u001b[1;32m     21\u001b[0m \u001b[0;34m\u001b[0m\u001b[0m\n",
            "\u001b[0;31mNameError\u001b[0m: name 'test_c_errs' is not defined"
          ]
        },
        {
          "output_type": "display_data",
          "data": {
            "image/png": "[encoded data removed]",
            "text/plain": [
              "<Figure size 720x288 with 1 Axes>"
            ]
          },
          "metadata": {
            "needs_background": "light"
          }
        }
      ]
    },
    {
      "cell_type": "code",
      "source": [
        "dataset=\"cifar100\"\n",
        "model=\"net\""
      ],
      "metadata": {
        "id": "R6BG_Mnn4dom"
      },
      "execution_count": null,
      "outputs": []
    },
    {
      "cell_type": "code",
      "source": [
        "#number of classes for CIFAR-100 is 100\n",
        "net = DenseNet.densenet(num_classes=100)\n",
        "\n",
        "# Distribute model across all visible GPUs\n",
        "import torch.backends.cudnn as cudnn\n",
        "torch.cuda.is_available()\n",
        "net = torch.nn.DataParallel(net).cuda()\n",
        "cudnn.benchmark = True"
      ],
      "metadata": {
        "id": "VY5ZApZm4e01"
      },
      "execution_count": null,
      "outputs": []
    },
    {
      "cell_type": "code",
      "source": [
        "test_loss, test_acc = test(net, test_dataloader_C100)\n",
        "print('Clean\\n\\tTest Loss {:.3f} | Test Error {:.2f}'.format(\n",
        "test_loss, 100 - 100. * test_acc))\n",
        "\n",
        "scheduler = torch.optim.lr_scheduler.LambdaLR(\n",
        "    optimizer,\n",
        "    lr_lambda=lambda step: get_lr(  # pylint: disable=g-long-lambda\n",
        "        step,\n",
        "        no_epochs * len(train_dataloader_C100),\n",
        "        1,  # lr_lambda computes multiplicative factor\n",
        "        1e-6 / learning_rate))\n",
        "\n",
        "#define a path for saving the data\n",
        "log_path = os.path.join(dataset + '_' + model + '_training_log.csv')\n",
        "with open(log_path, 'w') as f:\n",
        "  f.write('epoch,time(s),train_loss,test_loss,test_error(%)\\n')"
      ],
      "metadata": {
        "id": "XlrGQUdL4f9e",
        "colab": {
          "base_uri": "https://localhost:8080/"
        },
        "outputId": "1f9bf4c2-e145-4598-a336-c78a63492b3a"
      },
      "execution_count": null,
      "outputs": [
        {
          "output_type": "stream",
          "name": "stdout",
          "text": [
            "Clean\n",
            "\tTest Loss 5.228 | Test Error 99.00\n"
          ]
        }
      ]
    },
    {
      "cell_type": "code",
      "source": [
        "# If execution crashes, uncomment the following line to learn more about\n",
        "# PyTorch CUDA memory summary\n",
        "\n",
        "# print(torch.cuda.memory_summary(device=None, abbreviated=False))\n",
        "\n",
        "start_epoch=0\n",
        "best_acc = 0\n",
        "print('Beginning training from epoch:', start_epoch + 1)\n",
        "\n",
        "for epoch in range(start_epoch, no_epochs):\n",
        "    begin_time = time.time()\n",
        "\n",
        "    train_loss_ema = train(net, train_dataloader_C100, optimizer, scheduler)\n",
        "    test_loss, test_acc = test(net, test_dataloader_C100)\n",
        "\n",
        "    is_best = test_acc > best_acc\n",
        "    best_acc = max(test_acc, best_acc)\n",
        "    checkpoint = {\n",
        "        'epoch': epoch,\n",
        "        'dataset': dataset,\n",
        "        'model': model,\n",
        "        'state_dict': net.state_dict(),\n",
        "        'best_acc': best_acc,\n",
        "        'optimizer': optimizer.state_dict(),\n",
        "    }\n",
        "\n",
        "    save_path = os.path.join('checkpoint.pth.tar')\n",
        "    torch.save(checkpoint, save_path)\n",
        "    if is_best:\n",
        "      shutil.copyfile(save_path, os.path.join('model_best.pth.tar'))\n",
        "\n",
        "    with open(log_path, 'a') as f:\n",
        "      f.write('%03d,%05d,%0.6f,%0.5f,%0.2f\\n' % (\n",
        "          (epoch + 1),\n",
        "          time.time() - begin_time,\n",
        "          train_loss_ema,\n",
        "          test_loss,\n",
        "          100 - 100. * test_acc,\n",
        "      ))\n",
        "\n",
        "    print(\n",
        "        'Epoch {0:3d} | Time {1:5d} | Train Loss {2:.4f} | Test Loss {3:.3f} |'\n",
        "        ' Test Error {4:.2f}'\n",
        "        .format((epoch + 1), int(time.time() - begin_time), train_loss_ema,\n",
        "                test_loss, 100 - 100. * test_acc))"
      ],
      "metadata": {
        "id": "0ov3msGp4hLS"
      },
      "execution_count": null,
      "outputs": []
    },
    {
      "cell_type": "code",
      "source": [
        "test_loss, test_acc = test(net, test_dataloader_C100)\n",
        "print('Clean\\n\\tTest Loss {:.3f} | Test Error {:.2f}'.format(test_loss, 100 - 100. * test_acc))\n",
        "\n",
        "test_c_accs = test_c(net, test_dataset_C100, base_c_path_100)\n",
        "test_c_acc = np.mean(test_c_accs)\n",
        "print('Mean Corruption Error: {:.3f}'.format(100 - 100. * test_c_acc))"
      ],
      "metadata": {
        "id": "CQb7vaE24ikp"
      },
      "execution_count": null,
      "outputs": []
    },
    {
      "cell_type": "code",
      "source": [
        "dataset=\"cifar10\"\n",
        "model=\"net\"\n",
        "\n",
        "#number of classes for CIFAR-10 is 10\n",
        "net = ResNeXt.resnext29(num_classes=10)\n",
        "\n",
        "optimizer = torch.optim.SGD(\n",
        "      net.parameters(),\n",
        "      learning_rate,\n",
        "      momentum=momentum,\n",
        "      weight_decay=decay,\n",
        "      nesterov=True)\n",
        "\n",
        "\n",
        "# Distribute model across all visible GPUs\n",
        "import torch.backends.cudnn as cudnn\n",
        "torch.cuda.is_available()\n",
        "net = torch.nn.DataParallel(net).cuda()\n",
        "cudnn.benchmark = True"
      ],
      "metadata": {
        "id": "77HQ7oC74jkU"
      },
      "execution_count": null,
      "outputs": []
    },
    {
      "cell_type": "code",
      "source": [
        "test_loss, test_acc = test(net, test_dataloader_C10)\n",
        "print('Clean\\n\\tTest Loss {:.3f} | Test Error {:.2f}'.format(\n",
        "test_loss, 100 - 100. * test_acc))\n",
        "\n",
        "scheduler = torch.optim.lr_scheduler.LambdaLR(\n",
        "    optimizer,\n",
        "    lr_lambda=lambda step: get_lr(  # pylint: disable=g-long-lambda\n",
        "        step,\n",
        "        no_epochs * len(train_dataloader_C10),\n",
        "        1,  # lr_lambda computes multiplicative factor\n",
        "        1e-6 / learning_rate))\n",
        "\n",
        "#define a path for saving the data\n",
        "log_path = os.path.join(dataset + '_' + model + '_training_log.csv')\n",
        "with open(log_path, 'w') as f:\n",
        "  f.write('epoch,time(s),train_loss,test_loss,test_error(%)\\n')"
      ],
      "metadata": {
        "id": "xqJfClcJ4kpc"
      },
      "execution_count": null,
      "outputs": []
    },
    {
      "cell_type": "code",
      "source": [
        "# If execution crashes, uncomment the following line to learn more about\n",
        "# PyTorch CUDA memory summary\n",
        "\n",
        "# print(torch.cuda.memory_summary(device=None, abbreviated=False))\n",
        "\n",
        "start_epoch=0\n",
        "best_acc = 0\n",
        "print('Beginning training from epoch:', start_epoch + 1)\n",
        "\n",
        "for epoch in range(start_epoch, no_epochs):\n",
        "    begin_time = time.time()\n",
        "\n",
        "    train_loss_ema = train(net, train_dataloader_C10, optimizer, scheduler)\n",
        "    test_loss, test_acc = test(net, test_dataloader_C10)\n",
        "\n",
        "    is_best = test_acc > best_acc\n",
        "    best_acc = max(test_acc, best_acc)\n",
        "    checkpoint = {\n",
        "        'epoch': epoch,\n",
        "        'dataset': dataset,\n",
        "        'model': model,\n",
        "        'state_dict': net.state_dict(),\n",
        "        'best_acc': best_acc,\n",
        "        'optimizer': optimizer.state_dict(),\n",
        "    }\n",
        "\n",
        "    save_path = os.path.join('checkpoint.pth.tar')\n",
        "    torch.save(checkpoint, save_path)\n",
        "    if is_best:\n",
        "      shutil.copyfile(save_path, os.path.join('model_best.pth.tar'))\n",
        "\n",
        "    with open(log_path, 'a') as f:\n",
        "      f.write('%03d,%05d,%0.6f,%0.5f,%0.2f\\n' % (\n",
        "          (epoch + 1),\n",
        "          time.time() - begin_time,\n",
        "          train_loss_ema,\n",
        "          test_loss,\n",
        "          100 - 100. * test_acc,\n",
        "      ))\n",
        "\n",
        "    print(\n",
        "        'Epoch {0:3d} | Time {1:5d} | Train Loss {2:.4f} | Test Loss {3:.3f} |'\n",
        "        ' Test Error {4:.2f}'\n",
        "        .format((epoch + 1), int(time.time() - begin_time), train_loss_ema,\n",
        "                test_loss, 100 - 100. * test_acc))"
      ],
      "metadata": {
        "id": "O8d_WBn14lvH"
      },
      "execution_count": null,
      "outputs": []
    },
    {
      "cell_type": "code",
      "source": [
        "test_loss, test_acc = test(net, test_dataloader_C10)\n",
        "print('Clean\\n\\tTest Loss {:.3f} | Test Error {:.2f}'.format(test_loss, 100 - 100. * test_acc))\n",
        "\n",
        "test_c_accs = test_c(net, test_dataset_C10, base_c_path)\n",
        "test_c_acc = np.mean(test_c_accs)\n",
        "print('Mean Corruption Error: {:.3f}'.format(100 - 100. * test_c_acc))"
      ],
      "metadata": {
        "id": "Q1Poipmd4m58"
      },
      "execution_count": null,
      "outputs": []
    },
    {
      "cell_type": "code",
      "source": [
        "dataset=\"cifar100\"\n",
        "model=\"net\""
      ],
      "metadata": {
        "id": "NbeaXo_m4oBv"
      },
      "execution_count": null,
      "outputs": []
    },
    {
      "cell_type": "code",
      "source": [
        "#number of classes for CIFAR-100 is 100\n",
        "net = ResNeXt.resnext29(num_classes=100)\n",
        "\n",
        "# Distribute model across all visible GPUs\n",
        "import torch.backends.cudnn as cudnn\n",
        "torch.cuda.is_available()\n",
        "net = torch.nn.DataParallel(net).cuda()\n",
        "cudnn.benchmark = True"
      ],
      "metadata": {
        "id": "ohL3h7ug4pH5"
      },
      "execution_count": null,
      "outputs": []
    },
    {
      "cell_type": "code",
      "source": [
        "test_loss, test_acc = test(net, test_dataloader_C100)\n",
        "print('Clean\\n\\tTest Loss {:.3f} | Test Error {:.2f}'.format(\n",
        "test_loss, 100 - 100. * test_acc))\n",
        "\n",
        "scheduler = torch.optim.lr_scheduler.LambdaLR(\n",
        "    optimizer,\n",
        "    lr_lambda=lambda step: get_lr(  # pylint: disable=g-long-lambda\n",
        "        step,\n",
        "        no_epochs * len(train_dataloader_C100),\n",
        "        1,  # lr_lambda computes multiplicative factor\n",
        "        1e-6 / learning_rate))\n",
        "\n",
        "#define a path for saving the data\n",
        "log_path = os.path.join(dataset + '_' + model + '_training_log.csv')\n",
        "with open(log_path, 'w') as f:\n",
        "  f.write('epoch,time(s),train_loss,test_loss,test_error(%)\\n')"
      ],
      "metadata": {
        "id": "LQp6fVbj4qS2"
      },
      "execution_count": null,
      "outputs": []
    },
    {
      "cell_type": "code",
      "source": [
        "# If execution crashes, uncomment the following line to learn more about\n",
        "# PyTorch CUDA memory summary\n",
        "\n",
        "# print(torch.cuda.memory_summary(device=None, abbreviated=False))\n",
        "\n",
        "start_epoch=0\n",
        "best_acc = 0\n",
        "print('Beginning training from epoch:', start_epoch + 1)\n",
        "\n",
        "for epoch in range(start_epoch, no_epochs):\n",
        "    begin_time = time.time()\n",
        "\n",
        "    train_loss_ema = train(net, train_dataloader_C100, optimizer, scheduler)\n",
        "    test_loss, test_acc = test(net, test_dataloader_C100)\n",
        "\n",
        "    is_best = test_acc > best_acc\n",
        "    best_acc = max(test_acc, best_acc)\n",
        "    checkpoint = {\n",
        "        'epoch': epoch,\n",
        "        'dataset': dataset,\n",
        "        'model': model,\n",
        "        'state_dict': net.state_dict(),\n",
        "        'best_acc': best_acc,\n",
        "        'optimizer': optimizer.state_dict(),\n",
        "    }\n",
        "\n",
        "    save_path = os.path.join('checkpoint.pth.tar')\n",
        "    torch.save(checkpoint, save_path)\n",
        "    if is_best:\n",
        "      shutil.copyfile(save_path, os.path.join('model_best.pth.tar'))\n",
        "\n",
        "    with open(log_path, 'a') as f:\n",
        "      f.write('%03d,%05d,%0.6f,%0.5f,%0.2f\\n' % (\n",
        "          (epoch + 1),\n",
        "          time.time() - begin_time,\n",
        "          train_loss_ema,\n",
        "          test_loss,\n",
        "          100 - 100. * test_acc,\n",
        "      ))\n",
        "\n",
        "    print(\n",
        "        'Epoch {0:3d} | Time {1:5d} | Train Loss {2:.4f} | Test Loss {3:.3f} |'\n",
        "        ' Test Error {4:.2f}'\n",
        "        .format((epoch + 1), int(time.time() - begin_time), train_loss_ema,\n",
        "                test_loss, 100 - 100. * test_acc))"
      ],
      "metadata": {
        "id": "rUeeoKFp4rc6"
      },
      "execution_count": null,
      "outputs": []
    },
    {
      "cell_type": "code",
      "source": [
        "test_loss, test_acc = test(net, test_dataloader_C100)\n",
        "print('Clean\\n\\tTest Loss {:.3f} | Test Error {:.2f}'.format(test_loss, 100 - 100. * test_acc))\n",
        "\n",
        "test_c_accs = test_c(net, test_dataset_C100, base_c_path_100)\n",
        "test_c_acc = np.mean(test_c_accs)\n",
        "print('Mean Corruption Error: {:.3f}'.format(100 - 100. * test_c_acc))"
      ],
      "metadata": {
        "id": "mGNHodHt4son"
      },
      "execution_count": null,
      "outputs": []
    },
    {
      "cell_type": "code",
      "source": [
        "dataset=\"cifar10\"\n",
        "model=\"net\"\n",
        "\n",
        "#number of classes for CIFAR-10 is 10\n",
        "net = AllConvNet.AllConvNet(num_classes=10)\n",
        "\n",
        "optimizer = torch.optim.SGD(\n",
        "      net.parameters(),\n",
        "      learning_rate,\n",
        "      momentum=momentum,\n",
        "      weight_decay=decay,\n",
        "      nesterov=True)\n",
        "\n",
        "\n",
        "# Distribute model across all visible GPUs\n",
        "import torch.backends.cudnn as cudnn\n",
        "torch.cuda.is_available()\n",
        "net = torch.nn.DataParallel(net).cuda()\n",
        "cudnn.benchmark = True"
      ],
      "metadata": {
        "id": "zuuYwSFs4trt"
      },
      "execution_count": null,
      "outputs": []
    },
    {
      "cell_type": "code",
      "source": [
        "test_loss, test_acc = test(net, test_dataloader_C10)\n",
        "print('Clean\\n\\tTest Loss {:.3f} | Test Error {:.2f}'.format(\n",
        "test_loss, 100 - 100. * test_acc))\n",
        "\n",
        "scheduler = torch.optim.lr_scheduler.LambdaLR(\n",
        "    optimizer,\n",
        "    lr_lambda=lambda step: get_lr(  # pylint: disable=g-long-lambda\n",
        "        step,\n",
        "        no_epochs * len(train_dataloader_C10),\n",
        "        1,  # lr_lambda computes multiplicative factor\n",
        "        1e-6 / learning_rate))\n",
        "\n",
        "#define a path for saving the data\n",
        "log_path = os.path.join(dataset + '_' + model + '_training_log.csv')\n",
        "with open(log_path, 'w') as f:\n",
        "  f.write('epoch,time(s),train_loss,test_loss,test_error(%)\\n')"
      ],
      "metadata": {
        "id": "8peW-04F4xGU"
      },
      "execution_count": null,
      "outputs": []
    },
    {
      "cell_type": "code",
      "source": [
        "# If execution crashes, uncomment the following line to learn more about\n",
        "# PyTorch CUDA memory summary\n",
        "\n",
        "# print(torch.cuda.memory_summary(device=None, abbreviated=False))\n",
        "\n",
        "start_epoch=0\n",
        "best_acc = 0\n",
        "print('Beginning training from epoch:', start_epoch + 1)\n",
        "\n",
        "for epoch in range(start_epoch, no_epochs):\n",
        "    begin_time = time.time()\n",
        "\n",
        "    train_loss_ema = train(net, train_dataloader_C10, optimizer, scheduler)\n",
        "    test_loss, test_acc = test(net, test_dataloader_C10)\n",
        "\n",
        "    is_best = test_acc > best_acc\n",
        "    best_acc = max(test_acc, best_acc)\n",
        "    checkpoint = {\n",
        "        'epoch': epoch,\n",
        "        'dataset': dataset,\n",
        "        'model': model,\n",
        "        'state_dict': net.state_dict(),\n",
        "        'best_acc': best_acc,\n",
        "        'optimizer': optimizer.state_dict(),\n",
        "    }\n",
        "\n",
        "    save_path = os.path.join('checkpoint.pth.tar')\n",
        "    torch.save(checkpoint, save_path)\n",
        "    if is_best:\n",
        "      shutil.copyfile(save_path, os.path.join('model_best.pth.tar'))\n",
        "\n",
        "    with open(log_path, 'a') as f:\n",
        "      f.write('%03d,%05d,%0.6f,%0.5f,%0.2f\\n' % (\n",
        "          (epoch + 1),\n",
        "          time.time() - begin_time,\n",
        "          train_loss_ema,\n",
        "          test_loss,\n",
        "          100 - 100. * test_acc,\n",
        "      ))\n",
        "\n",
        "    print(\n",
        "        'Epoch {0:3d} | Time {1:5d} | Train Loss {2:.4f} | Test Loss {3:.3f} |'\n",
        "        ' Test Error {4:.2f}'\n",
        "        .format((epoch + 1), int(time.time() - begin_time), train_loss_ema,\n",
        "                test_loss, 100 - 100. * test_acc))"
      ],
      "metadata": {
        "id": "2WL5jufw4yZJ"
      },
      "execution_count": null,
      "outputs": []
    },
    {
      "cell_type": "code",
      "source": [
        "test_loss, test_acc = test(net, test_dataloader_C10)\n",
        "print('Clean\\n\\tTest Loss {:.3f} | Test Error {:.2f}'.format(test_loss, 100 - 100. * test_acc))\n",
        "\n",
        "test_c_accs = test_c(net, test_dataset_C10, base_c_path)\n",
        "test_c_acc = np.mean(test_c_accs)\n",
        "print('Mean Corruption Error: {:.3f}'.format(100 - 100. * test_c_acc))"
      ],
      "metadata": {
        "id": "2UvLH_iQ4z2V"
      },
      "execution_count": null,
      "outputs": []
    },
    {
      "cell_type": "code",
      "source": [
        "dataset=\"cifar100\"\n",
        "model=\"net\""
      ],
      "metadata": {
        "id": "7Wd6Q9a_40wB"
      },
      "execution_count": null,
      "outputs": []
    },
    {
      "cell_type": "code",
      "source": [
        "#number of classes for CIFAR-100 is 100\n",
        "net = AllConvNet.AllConvNet(num_classes=100)\n",
        "\n",
        "# Distribute model across all visible GPUs\n",
        "import torch.backends.cudnn as cudnn\n",
        "torch.cuda.is_available()\n",
        "net = torch.nn.DataParallel(net).cuda()\n",
        "cudnn.benchmark = True"
      ],
      "metadata": {
        "id": "WRhyJgIP41qg"
      },
      "execution_count": null,
      "outputs": []
    },
    {
      "cell_type": "code",
      "source": [
        "test_loss, test_acc = test(net, test_dataloader_C100)\n",
        "print('Clean\\n\\tTest Loss {:.3f} | Test Error {:.2f}'.format(\n",
        "test_loss, 100 - 100. * test_acc))\n",
        "\n",
        "scheduler = torch.optim.lr_scheduler.LambdaLR(\n",
        "    optimizer,\n",
        "    lr_lambda=lambda step: get_lr(  # pylint: disable=g-long-lambda\n",
        "        step,\n",
        "        no_epochs * len(train_dataloader_C100),\n",
        "        1,  # lr_lambda computes multiplicative factor\n",
        "        1e-6 / learning_rate))\n",
        "\n",
        "#define a path for saving the data\n",
        "log_path = os.path.join(dataset + '_' + model + '_training_log.csv')\n",
        "with open(log_path, 'w') as f:\n",
        "  f.write('epoch,time(s),train_loss,test_loss,test_error(%)\\n')"
      ],
      "metadata": {
        "id": "X2R44RZv42tM"
      },
      "execution_count": null,
      "outputs": []
    },
    {
      "cell_type": "code",
      "source": [
        "# If execution crashes, uncomment the following line to learn more about\n",
        "# PyTorch CUDA memory summary\n",
        "\n",
        "# print(torch.cuda.memory_summary(device=None, abbreviated=False))\n",
        "\n",
        "start_epoch=0\n",
        "best_acc = 0\n",
        "print('Beginning training from epoch:', start_epoch + 1)\n",
        "\n",
        "for epoch in range(start_epoch, no_epochs):\n",
        "    begin_time = time.time()\n",
        "\n",
        "    train_loss_ema = train(net, train_dataloader_C100, optimizer, scheduler)\n",
        "    test_loss, test_acc = test(net, test_dataloader_C100)\n",
        "\n",
        "    is_best = test_acc > best_acc\n",
        "    best_acc = max(test_acc, best_acc)\n",
        "    checkpoint = {\n",
        "        'epoch': epoch,\n",
        "        'dataset': dataset,\n",
        "        'model': model,\n",
        "        'state_dict': net.state_dict(),\n",
        "        'best_acc': best_acc,\n",
        "        'optimizer': optimizer.state_dict(),\n",
        "    }\n",
        "\n",
        "    save_path = os.path.join('checkpoint.pth.tar')\n",
        "    torch.save(checkpoint, save_path)\n",
        "    if is_best:\n",
        "      shutil.copyfile(save_path, os.path.join('model_best.pth.tar'))\n",
        "\n",
        "    with open(log_path, 'a') as f:\n",
        "      f.write('%03d,%05d,%0.6f,%0.5f,%0.2f\\n' % (\n",
        "          (epoch + 1),\n",
        "          time.time() - begin_time,\n",
        "          train_loss_ema,\n",
        "          test_loss,\n",
        "          100 - 100. * test_acc,\n",
        "      ))\n",
        "\n",
        "    print(\n",
        "        'Epoch {0:3d} | Time {1:5d} | Train Loss {2:.4f} | Test Loss {3:.3f} |'\n",
        "        ' Test Error {4:.2f}'\n",
        "        .format((epoch + 1), int(time.time() - begin_time), train_loss_ema,\n",
        "                test_loss, 100 - 100. * test_acc))"
      ],
      "metadata": {
        "id": "L0qUXayI43vC"
      },
      "execution_count": null,
      "outputs": []
    },
    {
      "cell_type": "code",
      "source": [
        "test_loss, test_acc = test(net, test_dataloader_C100)\n",
        "print('Clean\\n\\tTest Loss {:.3f} | Test Error {:.2f}'.format(test_loss, 100 - 100. * test_acc))\n",
        "\n",
        "test_c_accs = test_c(net, test_dataset_C100, base_c_path_100)\n",
        "test_c_acc = np.mean(test_c_accs)\n",
        "print('Mean Corruption Error: {:.3f}'.format(100 - 100. * test_c_acc))"
      ],
      "metadata": {
        "id": "1mCAgwKK44_B"
      },
      "execution_count": null,
      "outputs": []
    },
    {
      "cell_type": "code",
      "source": [
        "dataset=\"cifar10\"\n",
        "model=\"net\"\n",
        "depth = args['layers']\n",
        "\n",
        "#number of classes for CIFAR-10 is 10\n",
        "net = WideResNet.WideResNet(depth=depth, num_classes=10)\n",
        "\n",
        "optimizer = torch.optim.SGD(\n",
        "      net.parameters(),\n",
        "      learning_rate,\n",
        "      momentum=momentum,\n",
        "      weight_decay=decay,\n",
        "      nesterov=True)\n",
        "\n",
        "\n",
        "# Distribute model across all visible GPUs\n",
        "import torch.backends.cudnn as cudnn\n",
        "torch.cuda.is_available()\n",
        "net = torch.nn.DataParallel(net).cuda()\n",
        "cudnn.benchmark = True"
      ],
      "metadata": {
        "id": "Ogl3K97n46DB"
      },
      "execution_count": null,
      "outputs": []
    },
    {
      "cell_type": "code",
      "source": [
        "test_loss, test_acc = test(net, test_dataloader_C10)\n",
        "print('Clean\\n\\tTest Loss {:.3f} | Test Error {:.2f}'.format(\n",
        "test_loss, 100 - 100. * test_acc))\n",
        "\n",
        "scheduler = torch.optim.lr_scheduler.LambdaLR(\n",
        "    optimizer,\n",
        "    lr_lambda=lambda step: get_lr(  # pylint: disable=g-long-lambda\n",
        "        step,\n",
        "        no_epochs * len(train_dataloader_C10),\n",
        "        1,  # lr_lambda computes multiplicative factor\n",
        "        1e-6 / learning_rate))\n",
        "\n",
        "#define a path for saving the data\n",
        "log_path = os.path.join(dataset + '_' + model + '_training_log.csv')\n",
        "with open(log_path, 'w') as f:\n",
        "  f.write('epoch,time(s),train_loss,test_loss,test_error(%)\\n')"
      ],
      "metadata": {
        "id": "iqk4IlOo47fo"
      },
      "execution_count": null,
      "outputs": []
    },
    {
      "cell_type": "code",
      "source": [
        "dataset=\"cifar10\"\n",
        "model=\"net\"\n",
        "\n",
        "# If execution crashes, uncomment the following line to learn more about\n",
        "# PyTorch CUDA memory summary\n",
        "#print(torch.cuda.memory_summary(device=None, abbreviated=False))\n",
        "\n",
        "start_epoch=0\n",
        "best_acc = 0\n",
        "print('Beginning training from epoch:', start_epoch + 1)\n",
        "\n",
        "for epoch in range(start_epoch, no_epochs):\n",
        "    begin_time = time.time()\n",
        "\n",
        "    train_loss_ema = train(net, train_dataloader_C10, optimizer, scheduler)\n",
        "    test_loss, test_acc = test(net, test_dataloader_C10)\n",
        "\n",
        "    is_best = test_acc > best_acc\n",
        "    best_acc = max(test_acc, best_acc)\n",
        "    checkpoint = {\n",
        "        'epoch': epoch,\n",
        "        'dataset': dataset,\n",
        "        'model': model,\n",
        "        'state_dict': net.state_dict(),\n",
        "        'best_acc': best_acc,\n",
        "        'optimizer': optimizer.state_dict(),\n",
        "    }\n",
        "\n",
        "    save_path = os.path.join('checkpoint.pth.tar')\n",
        "    torch.save(checkpoint, save_path)\n",
        "    if is_best:\n",
        "      shutil.copyfile(save_path, os.path.join('model_best.pth.tar'))\n",
        "\n",
        "    with open(log_path, 'a') as f:\n",
        "      f.write('%03d,%05d,%0.6f,%0.5f,%0.2f\\n' % (\n",
        "          (epoch + 1),\n",
        "          time.time() - begin_time,\n",
        "          train_loss_ema,\n",
        "          test_loss,\n",
        "          100 - 100. * test_acc,\n",
        "      ))\n",
        "\n",
        "    print(\n",
        "        'Epoch {0:3d} | Time {1:5d} | Train Loss {2:.4f} | Test Loss {3:.3f} |'\n",
        "        ' Test Error {4:.2f}'\n",
        "        .format((epoch + 1), int(time.time() - begin_time), train_loss_ema,\n",
        "                test_loss, 100 - 100. * test_acc))"
      ],
      "metadata": {
        "id": "2B0qZM3K48tM"
      },
      "execution_count": null,
      "outputs": []
    },
    {
      "cell_type": "code",
      "source": [
        "test_loss, test_acc = test(net, test_dataloader_C10)\n",
        "print('Clean\\n\\tTest Loss {:.3f} | Test Error {:.2f}'.format(test_loss, 100 - 100. * test_acc))\n",
        "\n",
        "test_c_accs = test_c(net, test_dataset_C10, base_c_path)\n",
        "test_c_acc = np.mean(test_c_accs)\n",
        "print('Mean Corruption Error: {:.3f}'.format(100 - 100. * test_c_acc))"
      ],
      "metadata": {
        "id": "Sh3WD9rk4-EU"
      },
      "execution_count": null,
      "outputs": []
    },
    {
      "cell_type": "code",
      "source": [
        "dataset=\"cifar100\"\n",
        "model=\"net\""
      ],
      "metadata": {
        "id": "GxRVRfpS4_RQ"
      },
      "execution_count": null,
      "outputs": []
    },
    {
      "cell_type": "code",
      "source": [
        "#number of classes for CIFAR-100 is 100\n",
        "net = WideResNet.WideResNet(depth=depth, num_classes=10)\n",
        "\n",
        "# Distribute model across all visible GPUs\n",
        "import torch.backends.cudnn as cudnn\n",
        "torch.cuda.is_available()\n",
        "net = torch.nn.DataParallel(net).cuda()\n",
        "cudnn.benchmark = True"
      ],
      "metadata": {
        "id": "HywvPS295ARw"
      },
      "execution_count": null,
      "outputs": []
    },
    {
      "cell_type": "code",
      "source": [
        "test_loss, test_acc = test(net, test_dataloader_C100)\n",
        "print('Clean\\n\\tTest Loss {:.3f} | Test Error {:.2f}'.format(\n",
        "test_loss, 100 - 100. * test_acc))\n",
        "\n",
        "scheduler = torch.optim.lr_scheduler.LambdaLR(\n",
        "    optimizer,\n",
        "    lr_lambda=lambda step: get_lr(  # pylint: disable=g-long-lambda\n",
        "        step,\n",
        "        no_epochs * len(train_dataloader_C100),\n",
        "        1,  # lr_lambda computes multiplicative factor\n",
        "        1e-6 / learning_rate))\n",
        "\n",
        "#define a path for saving the data\n",
        "log_path = os.path.join(dataset + '_' + model + '_training_log.csv')\n",
        "with open(log_path, 'w') as f:\n",
        "  f.write('epoch,time(s),train_loss,test_loss,test_error(%)\\n')"
      ],
      "metadata": {
        "id": "Pptg-ajr5BZG"
      },
      "execution_count": null,
      "outputs": []
    },
    {
      "cell_type": "code",
      "source": [
        "# If execution crashes, uncomment the following line to learn more about\n",
        "# PyTorch CUDA memory summary\n",
        "\n",
        "# print(torch.cuda.memory_summary(device=None, abbreviated=False))\n",
        "\n",
        "start_epoch=0\n",
        "best_acc = 0\n",
        "print('Beginning training from epoch:', start_epoch + 1)\n",
        "\n",
        "for epoch in range(start_epoch, no_epochs):\n",
        "    begin_time = time.time()\n",
        "\n",
        "    train_loss_ema = train(net, train_dataloader_C100, optimizer, scheduler)\n",
        "    test_loss, test_acc = test(net, test_dataloader_C100)\n",
        "\n",
        "    is_best = test_acc > best_acc\n",
        "    best_acc = max(test_acc, best_acc)\n",
        "    checkpoint = {\n",
        "        'epoch': epoch,\n",
        "        'dataset': dataset,\n",
        "        'model': model,\n",
        "        'state_dict': net.state_dict(),\n",
        "        'best_acc': best_acc,\n",
        "        'optimizer': optimizer.state_dict(),\n",
        "    }\n",
        "\n",
        "    save_path = os.path.join('checkpoint.pth.tar')\n",
        "    torch.save(checkpoint, save_path)\n",
        "    if is_best:\n",
        "      shutil.copyfile(save_path, os.path.join('model_best.pth.tar'))\n",
        "\n",
        "    with open(log_path, 'a') as f:\n",
        "      f.write('%03d,%05d,%0.6f,%0.5f,%0.2f\\n' % (\n",
        "          (epoch + 1),\n",
        "          time.time() - begin_time,\n",
        "          train_loss_ema,\n",
        "          test_loss,\n",
        "          100 - 100. * test_acc,\n",
        "      ))\n",
        "\n",
        "    print(\n",
        "        'Epoch {0:3d} | Time {1:5d} | Train Loss {2:.4f} | Test Loss {3:.3f} |'\n",
        "        ' Test Error {4:.2f}'\n",
        "        .format((epoch + 1), int(time.time() - begin_time), train_loss_ema,\n",
        "                test_loss, 100 - 100. * test_acc))"
      ],
      "metadata": {
        "id": "B3gCZH1J5CWH"
      },
      "execution_count": null,
      "outputs": []
    },
    {
      "cell_type": "code",
      "source": [
        "test_loss, test_acc = test(net, test_dataloader_C100)\n",
        "print('Clean\\n\\tTest Loss {:.3f} | Test Error {:.2f}'.format(test_loss, 100 - 100. * test_acc))\n",
        "\n",
        "test_c_accs = test_c(net, test_dataset_C100, base_c_path_100)\n",
        "test_c_acc = np.mean(test_c_accs)\n",
        "print('Mean Corruption Error: {:.3f}'.format(100 - 100. * test_c_acc))"
      ],
      "metadata": {
        "id": "W0qv-doG5Daz"
      },
      "execution_count": null,
      "outputs": []
    }
  ],
  "metadata": {
    "colab": {
      "collapsed_sections": [],
      "name": "ReproducibilityChallenge_RRENT5 copy.ipynb",
      "provenance": [],
      "include_colab_link": true
    },
    "kernelspec": {
      "display_name": "Python 3",
      "name": "python3"
    },
    "language_info": {
      "name": "python"
    },
    "accelerator": "GPU",
    "widgets": {
      "application/vnd.jupyter.widget-state+json": {
        "4eadfbab984d426696c5fd59e2352433": {
          "model_module": "@jupyter-widgets/controls",
          "model_name": "HBoxModel",
          "model_module_version": "1.5.0",
          "state": {
            "_view_name": "HBoxView",
            "_dom_classes": [],
            "_model_name": "HBoxModel",
            "_view_module": "@jupyter-widgets/controls",
            "_model_module_version": "1.5.0",
            "_view_count": null,
            "_view_module_version": "1.5.0",
            "box_style": "",
            "layout": "IPY_MODEL_99f3f669c3a8410e9e87dd9bdf911163",
            "_model_module": "@jupyter-widgets/controls",
            "children": [
              "IPY_MODEL_6c87d1e3f07c4f77becb17c6d992b5ef",
              "IPY_MODEL_69fed780828741528303fa761e5a1cd9",
              "IPY_MODEL_5f02b4a4784e41b99eecd7a4ba3c2be3"
            ]
          }
        },
        "99f3f669c3a8410e9e87dd9bdf911163": {
          "model_module": "@jupyter-widgets/base",
          "model_name": "LayoutModel",
          "model_module_version": "1.2.0",
          "state": {
            "_view_name": "LayoutView",
            "grid_template_rows": null,
            "right": null,
            "justify_content": null,
            "_view_module": "@jupyter-widgets/base",
            "overflow": null,
            "_model_module_version": "1.2.0",
            "_view_count": null,
            "flex_flow": null,
            "width": null,
            "min_width": null,
            "border": null,
            "align_items": null,
            "bottom": null,
            "_model_module": "@jupyter-widgets/base",
            "top": null,
            "grid_column": null,
            "overflow_y": null,
            "overflow_x": null,
            "grid_auto_flow": null,
            "grid_area": null,
            "grid_template_columns": null,
            "flex": null,
            "_model_name": "LayoutModel",
            "justify_items": null,
            "grid_row": null,
            "max_height": null,
            "align_content": null,
            "visibility": null,
            "align_self": null,
            "height": null,
            "min_height": null,
            "padding": null,
            "grid_auto_rows": null,
            "grid_gap": null,
            "max_width": null,
            "order": null,
            "_view_module_version": "1.2.0",
            "grid_template_areas": null,
            "object_position": null,
            "object_fit": null,
            "grid_auto_columns": null,
            "margin": null,
            "display": null,
            "left": null
          }
        },
        "6c87d1e3f07c4f77becb17c6d992b5ef": {
          "model_module": "@jupyter-widgets/controls",
          "model_name": "HTMLModel",
          "model_module_version": "1.5.0",
          "state": {
            "_view_name": "HTMLView",
            "style": "IPY_MODEL_ba2c83e46e1a41c6850c625ef4ac654f",
            "_dom_classes": [],
            "description": "",
            "_model_name": "HTMLModel",
            "placeholder": "​",
            "_view_module": "@jupyter-widgets/controls",
            "_model_module_version": "1.5.0",
            "value": "",
            "_view_count": null,
            "_view_module_version": "1.5.0",
            "description_tooltip": null,
            "_model_module": "@jupyter-widgets/controls",
            "layout": "IPY_MODEL_c73a24875f0e49249b618421246849bc"
          }
        },
        "69fed780828741528303fa761e5a1cd9": {
          "model_module": "@jupyter-widgets/controls",
          "model_name": "FloatProgressModel",
          "model_module_version": "1.5.0",
          "state": {
            "_view_name": "ProgressView",
            "style": "IPY_MODEL_294745fbac3f46abafe9bb2b5063876c",
            "_dom_classes": [],
            "description": "",
            "_model_name": "FloatProgressModel",
            "bar_style": "success",
            "max": 170498071,
            "_view_module": "@jupyter-widgets/controls",
            "_model_module_version": "1.5.0",
            "value": 170498071,
            "_view_count": null,
            "_view_module_version": "1.5.0",
            "orientation": "horizontal",
            "min": 0,
            "description_tooltip": null,
            "_model_module": "@jupyter-widgets/controls",
            "layout": "IPY_MODEL_b4d43d534fe64624aa80f3f9c748b013"
          }
        },
        "5f02b4a4784e41b99eecd7a4ba3c2be3": {
          "model_module": "@jupyter-widgets/controls",
          "model_name": "HTMLModel",
          "model_module_version": "1.5.0",
          "state": {
            "_view_name": "HTMLView",
            "style": "IPY_MODEL_5e99ecbde03a4345b73a988002ad6a6b",
            "_dom_classes": [],
            "description": "",
            "_model_name": "HTMLModel",
            "placeholder": "​",
            "_view_module": "@jupyter-widgets/controls",
            "_model_module_version": "1.5.0",
            "value": " 170499072/? [00:03&lt;00:00, 54928405.17it/s]",
            "_view_count": null,
            "_view_module_version": "1.5.0",
            "description_tooltip": null,
            "_model_module": "@jupyter-widgets/controls",
            "layout": "IPY_MODEL_2d3046944be745379b4c822f88d0b48c"
          }
        },
        "ba2c83e46e1a41c6850c625ef4ac654f": {
          "model_module": "@jupyter-widgets/controls",
          "model_name": "DescriptionStyleModel",
          "model_module_version": "1.5.0",
          "state": {
            "_view_name": "StyleView",
            "_model_name": "DescriptionStyleModel",
            "description_width": "",
            "_view_module": "@jupyter-widgets/base",
            "_model_module_version": "1.5.0",
            "_view_count": null,
            "_view_module_version": "1.2.0",
            "_model_module": "@jupyter-widgets/controls"
          }
        },
        "c73a24875f0e49249b618421246849bc": {
          "model_module": "@jupyter-widgets/base",
          "model_name": "LayoutModel",
          "model_module_version": "1.2.0",
          "state": {
            "_view_name": "LayoutView",
            "grid_template_rows": null,
            "right": null,
            "justify_content": null,
            "_view_module": "@jupyter-widgets/base",
            "overflow": null,
            "_model_module_version": "1.2.0",
            "_view_count": null,
            "flex_flow": null,
            "width": null,
            "min_width": null,
            "border": null,
            "align_items": null,
            "bottom": null,
            "_model_module": "@jupyter-widgets/base",
            "top": null,
            "grid_column": null,
            "overflow_y": null,
            "overflow_x": null,
            "grid_auto_flow": null,
            "grid_area": null,
            "grid_template_columns": null,
            "flex": null,
            "_model_name": "LayoutModel",
            "justify_items": null,
            "grid_row": null,
            "max_height": null,
            "align_content": null,
            "visibility": null,
            "align_self": null,
            "height": null,
            "min_height": null,
            "padding": null,
            "grid_auto_rows": null,
            "grid_gap": null,
            "max_width": null,
            "order": null,
            "_view_module_version": "1.2.0",
            "grid_template_areas": null,
            "object_position": null,
            "object_fit": null,
            "grid_auto_columns": null,
            "margin": null,
            "display": null,
            "left": null
          }
        },
        "294745fbac3f46abafe9bb2b5063876c": {
          "model_module": "@jupyter-widgets/controls",
          "model_name": "ProgressStyleModel",
          "model_module_version": "1.5.0",
          "state": {
            "_view_name": "StyleView",
            "_model_name": "ProgressStyleModel",
            "description_width": "",
            "_view_module": "@jupyter-widgets/base",
            "_model_module_version": "1.5.0",
            "_view_count": null,
            "_view_module_version": "1.2.0",
            "bar_color": null,
            "_model_module": "@jupyter-widgets/controls"
          }
        },
        "b4d43d534fe64624aa80f3f9c748b013": {
          "model_module": "@jupyter-widgets/base",
          "model_name": "LayoutModel",
          "model_module_version": "1.2.0",
          "state": {
            "_view_name": "LayoutView",
            "grid_template_rows": null,
            "right": null,
            "justify_content": null,
            "_view_module": "@jupyter-widgets/base",
            "overflow": null,
            "_model_module_version": "1.2.0",
            "_view_count": null,
            "flex_flow": null,
            "width": null,
            "min_width": null,
            "border": null,
            "align_items": null,
            "bottom": null,
            "_model_module": "@jupyter-widgets/base",
            "top": null,
            "grid_column": null,
            "overflow_y": null,
            "overflow_x": null,
            "grid_auto_flow": null,
            "grid_area": null,
            "grid_template_columns": null,
            "flex": null,
            "_model_name": "LayoutModel",
            "justify_items": null,
            "grid_row": null,
            "max_height": null,
            "align_content": null,
            "visibility": null,
            "align_self": null,
            "height": null,
            "min_height": null,
            "padding": null,
            "grid_auto_rows": null,
            "grid_gap": null,
            "max_width": null,
            "order": null,
            "_view_module_version": "1.2.0",
            "grid_template_areas": null,
            "object_position": null,
            "object_fit": null,
            "grid_auto_columns": null,
            "margin": null,
            "display": null,
            "left": null
          }
        },
        "5e99ecbde03a4345b73a988002ad6a6b": {
          "model_module": "@jupyter-widgets/controls",
          "model_name": "DescriptionStyleModel",
          "model_module_version": "1.5.0",
          "state": {
            "_view_name": "StyleView",
            "_model_name": "DescriptionStyleModel",
            "description_width": "",
            "_view_module": "@jupyter-widgets/base",
            "_model_module_version": "1.5.0",
            "_view_count": null,
            "_view_module_version": "1.2.0",
            "_model_module": "@jupyter-widgets/controls"
          }
        },
        "2d3046944be745379b4c822f88d0b48c": {
          "model_module": "@jupyter-widgets/base",
          "model_name": "LayoutModel",
          "model_module_version": "1.2.0",
          "state": {
            "_view_name": "LayoutView",
            "grid_template_rows": null,
            "right": null,
            "justify_content": null,
            "_view_module": "@jupyter-widgets/base",
            "overflow": null,
            "_model_module_version": "1.2.0",
            "_view_count": null,
            "flex_flow": null,
            "width": null,
            "min_width": null,
            "border": null,
            "align_items": null,
            "bottom": null,
            "_model_module": "@jupyter-widgets/base",
            "top": null,
            "grid_column": null,
            "overflow_y": null,
            "overflow_x": null,
            "grid_auto_flow": null,
            "grid_area": null,
            "grid_template_columns": null,
            "flex": null,
            "_model_name": "LayoutModel",
            "justify_items": null,
            "grid_row": null,
            "max_height": null,
            "align_content": null,
            "visibility": null,
            "align_self": null,
            "height": null,
            "min_height": null,
            "padding": null,
            "grid_auto_rows": null,
            "grid_gap": null,
            "max_width": null,
            "order": null,
            "_view_module_version": "1.2.0",
            "grid_template_areas": null,
            "object_position": null,
            "object_fit": null,
            "grid_auto_columns": null,
            "margin": null,
            "display": null,
            "left": null
          }
        },
        "1fce79b513de4e2c90bcdca53b69440a": {
          "model_module": "@jupyter-widgets/controls",
          "model_name": "HBoxModel",
          "model_module_version": "1.5.0",
          "state": {
            "_view_name": "HBoxView",
            "_dom_classes": [],
            "_model_name": "HBoxModel",
            "_view_module": "@jupyter-widgets/controls",
            "_model_module_version": "1.5.0",
            "_view_count": null,
            "_view_module_version": "1.5.0",
            "box_style": "",
            "layout": "IPY_MODEL_97891b24bbf44bb69cbd21632e835a20",
            "_model_module": "@jupyter-widgets/controls",
            "children": [
              "IPY_MODEL_423945aa63f248de8a9c6d1b355e90f8",
              "IPY_MODEL_fc93d6f6a66c445b8e68c3e174f7daac",
              "IPY_MODEL_f968add775f64849978e30a09d5da9f7"
            ]
          }
        },
        "97891b24bbf44bb69cbd21632e835a20": {
          "model_module": "@jupyter-widgets/base",
          "model_name": "LayoutModel",
          "model_module_version": "1.2.0",
          "state": {
            "_view_name": "LayoutView",
            "grid_template_rows": null,
            "right": null,
            "justify_content": null,
            "_view_module": "@jupyter-widgets/base",
            "overflow": null,
            "_model_module_version": "1.2.0",
            "_view_count": null,
            "flex_flow": null,
            "width": null,
            "min_width": null,
            "border": null,
            "align_items": null,
            "bottom": null,
            "_model_module": "@jupyter-widgets/base",
            "top": null,
            "grid_column": null,
            "overflow_y": null,
            "overflow_x": null,
            "grid_auto_flow": null,
            "grid_area": null,
            "grid_template_columns": null,
            "flex": null,
            "_model_name": "LayoutModel",
            "justify_items": null,
            "grid_row": null,
            "max_height": null,
            "align_content": null,
            "visibility": null,
            "align_self": null,
            "height": null,
            "min_height": null,
            "padding": null,
            "grid_auto_rows": null,
            "grid_gap": null,
            "max_width": null,
            "order": null,
            "_view_module_version": "1.2.0",
            "grid_template_areas": null,
            "object_position": null,
            "object_fit": null,
            "grid_auto_columns": null,
            "margin": null,
            "display": null,
            "left": null
          }
        },
        "423945aa63f248de8a9c6d1b355e90f8": {
          "model_module": "@jupyter-widgets/controls",
          "model_name": "HTMLModel",
          "model_module_version": "1.5.0",
          "state": {
            "_view_name": "HTMLView",
            "style": "IPY_MODEL_b6818e6cee1b4dd6aa4b16a08b780b32",
            "_dom_classes": [],
            "description": "",
            "_model_name": "HTMLModel",
            "placeholder": "​",
            "_view_module": "@jupyter-widgets/controls",
            "_model_module_version": "1.5.0",
            "value": "",
            "_view_count": null,
            "_view_module_version": "1.5.0",
            "description_tooltip": null,
            "_model_module": "@jupyter-widgets/controls",
            "layout": "IPY_MODEL_743022c7e64346e3bd046eec1fab0ab2"
          }
        },
        "fc93d6f6a66c445b8e68c3e174f7daac": {
          "model_module": "@jupyter-widgets/controls",
          "model_name": "FloatProgressModel",
          "model_module_version": "1.5.0",
          "state": {
            "_view_name": "ProgressView",
            "style": "IPY_MODEL_a15b6badd0d9468ab21e3a6376e64420",
            "_dom_classes": [],
            "description": "",
            "_model_name": "FloatProgressModel",
            "bar_style": "success",
            "max": 169001437,
            "_view_module": "@jupyter-widgets/controls",
            "_model_module_version": "1.5.0",
            "value": 169001437,
            "_view_count": null,
            "_view_module_version": "1.5.0",
            "orientation": "horizontal",
            "min": 0,
            "description_tooltip": null,
            "_model_module": "@jupyter-widgets/controls",
            "layout": "IPY_MODEL_9dfd3e5f4c3a4a89a8bbc373d90d94d2"
          }
        },
        "f968add775f64849978e30a09d5da9f7": {
          "model_module": "@jupyter-widgets/controls",
          "model_name": "HTMLModel",
          "model_module_version": "1.5.0",
          "state": {
            "_view_name": "HTMLView",
            "style": "IPY_MODEL_9ac70649c97d4886a8b9918212ea047e",
            "_dom_classes": [],
            "description": "",
            "_model_name": "HTMLModel",
            "placeholder": "​",
            "_view_module": "@jupyter-widgets/controls",
            "_model_module_version": "1.5.0",
            "value": " 169001984/? [00:03&lt;00:00, 54423953.60it/s]",
            "_view_count": null,
            "_view_module_version": "1.5.0",
            "description_tooltip": null,
            "_model_module": "@jupyter-widgets/controls",
            "layout": "IPY_MODEL_acc7d0b2b2144bd8a5b2161cad8b0303"
          }
        },
        "b6818e6cee1b4dd6aa4b16a08b780b32": {
          "model_module": "@jupyter-widgets/controls",
          "model_name": "DescriptionStyleModel",
          "model_module_version": "1.5.0",
          "state": {
            "_view_name": "StyleView",
            "_model_name": "DescriptionStyleModel",
            "description_width": "",
            "_view_module": "@jupyter-widgets/base",
            "_model_module_version": "1.5.0",
            "_view_count": null,
            "_view_module_version": "1.2.0",
            "_model_module": "@jupyter-widgets/controls"
          }
        },
        "743022c7e64346e3bd046eec1fab0ab2": {
          "model_module": "@jupyter-widgets/base",
          "model_name": "LayoutModel",
          "model_module_version": "1.2.0",
          "state": {
            "_view_name": "LayoutView",
            "grid_template_rows": null,
            "right": null,
            "justify_content": null,
            "_view_module": "@jupyter-widgets/base",
            "overflow": null,
            "_model_module_version": "1.2.0",
            "_view_count": null,
            "flex_flow": null,
            "width": null,
            "min_width": null,
            "border": null,
            "align_items": null,
            "bottom": null,
            "_model_module": "@jupyter-widgets/base",
            "top": null,
            "grid_column": null,
            "overflow_y": null,
            "overflow_x": null,
            "grid_auto_flow": null,
            "grid_area": null,
            "grid_template_columns": null,
            "flex": null,
            "_model_name": "LayoutModel",
            "justify_items": null,
            "grid_row": null,
            "max_height": null,
            "align_content": null,
            "visibility": null,
            "align_self": null,
            "height": null,
            "min_height": null,
            "padding": null,
            "grid_auto_rows": null,
            "grid_gap": null,
            "max_width": null,
            "order": null,
            "_view_module_version": "1.2.0",
            "grid_template_areas": null,
            "object_position": null,
            "object_fit": null,
            "grid_auto_columns": null,
            "margin": null,
            "display": null,
            "left": null
          }
        },
        "a15b6badd0d9468ab21e3a6376e64420": {
          "model_module": "@jupyter-widgets/controls",
          "model_name": "ProgressStyleModel",
          "model_module_version": "1.5.0",
          "state": {
            "_view_name": "StyleView",
            "_model_name": "ProgressStyleModel",
            "description_width": "",
            "_view_module": "@jupyter-widgets/base",
            "_model_module_version": "1.5.0",
            "_view_count": null,
            "_view_module_version": "1.2.0",
            "bar_color": null,
            "_model_module": "@jupyter-widgets/controls"
          }
        },
        "9dfd3e5f4c3a4a89a8bbc373d90d94d2": {
          "model_module": "@jupyter-widgets/base",
          "model_name": "LayoutModel",
          "model_module_version": "1.2.0",
          "state": {
            "_view_name": "LayoutView",
            "grid_template_rows": null,
            "right": null,
            "justify_content": null,
            "_view_module": "@jupyter-widgets/base",
            "overflow": null,
            "_model_module_version": "1.2.0",
            "_view_count": null,
            "flex_flow": null,
            "width": null,
            "min_width": null,
            "border": null,
            "align_items": null,
            "bottom": null,
            "_model_module": "@jupyter-widgets/base",
            "top": null,
            "grid_column": null,
            "overflow_y": null,
            "overflow_x": null,
            "grid_auto_flow": null,
            "grid_area": null,
            "grid_template_columns": null,
            "flex": null,
            "_model_name": "LayoutModel",
            "justify_items": null,
            "grid_row": null,
            "max_height": null,
            "align_content": null,
            "visibility": null,
            "align_self": null,
            "height": null,
            "min_height": null,
            "padding": null,
            "grid_auto_rows": null,
            "grid_gap": null,
            "max_width": null,
            "order": null,
            "_view_module_version": "1.2.0",
            "grid_template_areas": null,
            "object_position": null,
            "object_fit": null,
            "grid_auto_columns": null,
            "margin": null,
            "display": null,
            "left": null
          }
        },
        "9ac70649c97d4886a8b9918212ea047e": {
          "model_module": "@jupyter-widgets/controls",
          "model_name": "DescriptionStyleModel",
          "model_module_version": "1.5.0",
          "state": {
            "_view_name": "StyleView",
            "_model_name": "DescriptionStyleModel",
            "description_width": "",
            "_view_module": "@jupyter-widgets/base",
            "_model_module_version": "1.5.0",
            "_view_count": null,
            "_view_module_version": "1.2.0",
            "_model_module": "@jupyter-widgets/controls"
          }
        },
        "acc7d0b2b2144bd8a5b2161cad8b0303": {
          "model_module": "@jupyter-widgets/base",
          "model_name": "LayoutModel",
          "model_module_version": "1.2.0",
          "state": {
            "_view_name": "LayoutView",
            "grid_template_rows": null,
            "right": null,
            "justify_content": null,
            "_view_module": "@jupyter-widgets/base",
            "overflow": null,
            "_model_module_version": "1.2.0",
            "_view_count": null,
            "flex_flow": null,
            "width": null,
            "min_width": null,
            "border": null,
            "align_items": null,
            "bottom": null,
            "_model_module": "@jupyter-widgets/base",
            "top": null,
            "grid_column": null,
            "overflow_y": null,
            "overflow_x": null,
            "grid_auto_flow": null,
            "grid_area": null,
            "grid_template_columns": null,
            "flex": null,
            "_model_name": "LayoutModel",
            "justify_items": null,
            "grid_row": null,
            "max_height": null,
            "align_content": null,
            "visibility": null,
            "align_self": null,
            "height": null,
            "min_height": null,
            "padding": null,
            "grid_auto_rows": null,
            "grid_gap": null,
            "max_width": null,
            "order": null,
            "_view_module_version": "1.2.0",
            "grid_template_areas": null,
            "object_position": null,
            "object_fit": null,
            "grid_auto_columns": null,
            "margin": null,
            "display": null,
            "left": null
          }
        },
        "41c510a586234dffa0fc7aaf01e90820": {
          "model_module": "@jupyter-widgets/controls",
          "model_name": "HBoxModel",
          "model_module_version": "1.5.0",
          "state": {
            "_view_name": "HBoxView",
            "_dom_classes": [],
            "_model_name": "HBoxModel",
            "_view_module": "@jupyter-widgets/controls",
            "_model_module_version": "1.5.0",
            "_view_count": null,
            "_view_module_version": "1.5.0",
            "box_style": "",
            "layout": "IPY_MODEL_a33adc2ab95443e6a63e294cf1adcf14",
            "_model_module": "@jupyter-widgets/controls",
            "children": [
              "IPY_MODEL_88a073c1f00a4e8f9d6c213bfaa5c457",
              "IPY_MODEL_c01421ed6b924e38941f0750aa87f109",
              "IPY_MODEL_96c6f58949114206918e10d2207e1c50"
            ]
          }
        },
        "a33adc2ab95443e6a63e294cf1adcf14": {
          "model_module": "@jupyter-widgets/base",
          "model_name": "LayoutModel",
          "model_module_version": "1.2.0",
          "state": {
            "_view_name": "LayoutView",
            "grid_template_rows": null,
            "right": null,
            "justify_content": null,
            "_view_module": "@jupyter-widgets/base",
            "overflow": null,
            "_model_module_version": "1.2.0",
            "_view_count": null,
            "flex_flow": null,
            "width": null,
            "min_width": null,
            "border": null,
            "align_items": null,
            "bottom": null,
            "_model_module": "@jupyter-widgets/base",
            "top": null,
            "grid_column": null,
            "overflow_y": null,
            "overflow_x": null,
            "grid_auto_flow": null,
            "grid_area": null,
            "grid_template_columns": null,
            "flex": null,
            "_model_name": "LayoutModel",
            "justify_items": null,
            "grid_row": null,
            "max_height": null,
            "align_content": null,
            "visibility": null,
            "align_self": null,
            "height": null,
            "min_height": null,
            "padding": null,
            "grid_auto_rows": null,
            "grid_gap": null,
            "max_width": null,
            "order": null,
            "_view_module_version": "1.2.0",
            "grid_template_areas": null,
            "object_position": null,
            "object_fit": null,
            "grid_auto_columns": null,
            "margin": null,
            "display": null,
            "left": null
          }
        },
        "88a073c1f00a4e8f9d6c213bfaa5c457": {
          "model_module": "@jupyter-widgets/controls",
          "model_name": "HTMLModel",
          "model_module_version": "1.5.0",
          "state": {
            "_view_name": "HTMLView",
            "style": "IPY_MODEL_62008ef31a1d4e5880071c95d50b584d",
            "_dom_classes": [],
            "description": "",
            "_model_name": "HTMLModel",
            "placeholder": "​",
            "_view_module": "@jupyter-widgets/controls",
            "_model_module_version": "1.5.0",
            "value": "100%",
            "_view_count": null,
            "_view_module_version": "1.5.0",
            "description_tooltip": null,
            "_model_module": "@jupyter-widgets/controls",
            "layout": "IPY_MODEL_4b2f2cc909d0415d96660e1e1312bfe9"
          }
        },
        "c01421ed6b924e38941f0750aa87f109": {
          "model_module": "@jupyter-widgets/controls",
          "model_name": "FloatProgressModel",
          "model_module_version": "1.5.0",
          "state": {
            "_view_name": "ProgressView",
            "style": "IPY_MODEL_5f79d6522768430d9c09a6ee7c084198",
            "_dom_classes": [],
            "description": "",
            "_model_name": "FloatProgressModel",
            "bar_style": "success",
            "max": 2918471680,
            "_view_module": "@jupyter-widgets/controls",
            "_model_module_version": "1.5.0",
            "value": 2918471680,
            "_view_count": null,
            "_view_module_version": "1.5.0",
            "orientation": "horizontal",
            "min": 0,
            "description_tooltip": null,
            "_model_module": "@jupyter-widgets/controls",
            "layout": "IPY_MODEL_f344b7fae6054e4f81e5f37427043ebf"
          }
        },
        "96c6f58949114206918e10d2207e1c50": {
          "model_module": "@jupyter-widgets/controls",
          "model_name": "HTMLModel",
          "model_module_version": "1.5.0",
          "state": {
            "_view_name": "HTMLView",
            "style": "IPY_MODEL_e7ae2c0a957143ef9dc82cddfa488060",
            "_dom_classes": [],
            "description": "",
            "_model_name": "HTMLModel",
            "placeholder": "​",
            "_view_module": "@jupyter-widgets/controls",
            "_model_module_version": "1.5.0",
            "value": " 2918471680/2918471680 [07:49&lt;00:00, 6035244.85it/s]",
            "_view_count": null,
            "_view_module_version": "1.5.0",
            "description_tooltip": null,
            "_model_module": "@jupyter-widgets/controls",
            "layout": "IPY_MODEL_197276c8215d4ffa972509addde10984"
          }
        },
        "62008ef31a1d4e5880071c95d50b584d": {
          "model_module": "@jupyter-widgets/controls",
          "model_name": "DescriptionStyleModel",
          "model_module_version": "1.5.0",
          "state": {
            "_view_name": "StyleView",
            "_model_name": "DescriptionStyleModel",
            "description_width": "",
            "_view_module": "@jupyter-widgets/base",
            "_model_module_version": "1.5.0",
            "_view_count": null,
            "_view_module_version": "1.2.0",
            "_model_module": "@jupyter-widgets/controls"
          }
        },
        "4b2f2cc909d0415d96660e1e1312bfe9": {
          "model_module": "@jupyter-widgets/base",
          "model_name": "LayoutModel",
          "model_module_version": "1.2.0",
          "state": {
            "_view_name": "LayoutView",
            "grid_template_rows": null,
            "right": null,
            "justify_content": null,
            "_view_module": "@jupyter-widgets/base",
            "overflow": null,
            "_model_module_version": "1.2.0",
            "_view_count": null,
            "flex_flow": null,
            "width": null,
            "min_width": null,
            "border": null,
            "align_items": null,
            "bottom": null,
            "_model_module": "@jupyter-widgets/base",
            "top": null,
            "grid_column": null,
            "overflow_y": null,
            "overflow_x": null,
            "grid_auto_flow": null,
            "grid_area": null,
            "grid_template_columns": null,
            "flex": null,
            "_model_name": "LayoutModel",
            "justify_items": null,
            "grid_row": null,
            "max_height": null,
            "align_content": null,
            "visibility": null,
            "align_self": null,
            "height": null,
            "min_height": null,
            "padding": null,
            "grid_auto_rows": null,
            "grid_gap": null,
            "max_width": null,
            "order": null,
            "_view_module_version": "1.2.0",
            "grid_template_areas": null,
            "object_position": null,
            "object_fit": null,
            "grid_auto_columns": null,
            "margin": null,
            "display": null,
            "left": null
          }
        },
        "5f79d6522768430d9c09a6ee7c084198": {
          "model_module": "@jupyter-widgets/controls",
          "model_name": "ProgressStyleModel",
          "model_module_version": "1.5.0",
          "state": {
            "_view_name": "StyleView",
            "_model_name": "ProgressStyleModel",
            "description_width": "",
            "_view_module": "@jupyter-widgets/base",
            "_model_module_version": "1.5.0",
            "_view_count": null,
            "_view_module_version": "1.2.0",
            "bar_color": null,
            "_model_module": "@jupyter-widgets/controls"
          }
        },
        "f344b7fae6054e4f81e5f37427043ebf": {
          "model_module": "@jupyter-widgets/base",
          "model_name": "LayoutModel",
          "model_module_version": "1.2.0",
          "state": {
            "_view_name": "LayoutView",
            "grid_template_rows": null,
            "right": null,
            "justify_content": null,
            "_view_module": "@jupyter-widgets/base",
            "overflow": null,
            "_model_module_version": "1.2.0",
            "_view_count": null,
            "flex_flow": null,
            "width": null,
            "min_width": null,
            "border": null,
            "align_items": null,
            "bottom": null,
            "_model_module": "@jupyter-widgets/base",
            "top": null,
            "grid_column": null,
            "overflow_y": null,
            "overflow_x": null,
            "grid_auto_flow": null,
            "grid_area": null,
            "grid_template_columns": null,
            "flex": null,
            "_model_name": "LayoutModel",
            "justify_items": null,
            "grid_row": null,
            "max_height": null,
            "align_content": null,
            "visibility": null,
            "align_self": null,
            "height": null,
            "min_height": null,
            "padding": null,
            "grid_auto_rows": null,
            "grid_gap": null,
            "max_width": null,
            "order": null,
            "_view_module_version": "1.2.0",
            "grid_template_areas": null,
            "object_position": null,
            "object_fit": null,
            "grid_auto_columns": null,
            "margin": null,
            "display": null,
            "left": null
          }
        },
        "e7ae2c0a957143ef9dc82cddfa488060": {
          "model_module": "@jupyter-widgets/controls",
          "model_name": "DescriptionStyleModel",
          "model_module_version": "1.5.0",
          "state": {
            "_view_name": "StyleView",
            "_model_name": "DescriptionStyleModel",
            "description_width": "",
            "_view_module": "@jupyter-widgets/base",
            "_model_module_version": "1.5.0",
            "_view_count": null,
            "_view_module_version": "1.2.0",
            "_model_module": "@jupyter-widgets/controls"
          }
        },
        "197276c8215d4ffa972509addde10984": {
          "model_module": "@jupyter-widgets/base",
          "model_name": "LayoutModel",
          "model_module_version": "1.2.0",
          "state": {
            "_view_name": "LayoutView",
            "grid_template_rows": null,
            "right": null,
            "justify_content": null,
            "_view_module": "@jupyter-widgets/base",
            "overflow": null,
            "_model_module_version": "1.2.0",
            "_view_count": null,
            "flex_flow": null,
            "width": null,
            "min_width": null,
            "border": null,
            "align_items": null,
            "bottom": null,
            "_model_module": "@jupyter-widgets/base",
            "top": null,
            "grid_column": null,
            "overflow_y": null,
            "overflow_x": null,
            "grid_auto_flow": null,
            "grid_area": null,
            "grid_template_columns": null,
            "flex": null,
            "_model_name": "LayoutModel",
            "justify_items": null,
            "grid_row": null,
            "max_height": null,
            "align_content": null,
            "visibility": null,
            "align_self": null,
            "height": null,
            "min_height": null,
            "padding": null,
            "grid_auto_rows": null,
            "grid_gap": null,
            "max_width": null,
            "order": null,
            "_view_module_version": "1.2.0",
            "grid_template_areas": null,
            "object_position": null,
            "object_fit": null,
            "grid_auto_columns": null,
            "margin": null,
            "display": null,
            "left": null
          }
        },
        "f06b5d91c6e049e2843a7977826606a0": {
          "model_module": "@jupyter-widgets/controls",
          "model_name": "HBoxModel",
          "model_module_version": "1.5.0",
          "state": {
            "_view_name": "HBoxView",
            "_dom_classes": [],
            "_model_name": "HBoxModel",
            "_view_module": "@jupyter-widgets/controls",
            "_model_module_version": "1.5.0",
            "_view_count": null,
            "_view_module_version": "1.5.0",
            "box_style": "",
            "layout": "IPY_MODEL_31a2d78e9ac1434d8ac8a843d645039a",
            "_model_module": "@jupyter-widgets/controls",
            "children": [
              "IPY_MODEL_c3fdb386fb2e408ea0c655fa0e3d6caf",
              "IPY_MODEL_9c0ea02d76644e2d8eac57a880338c49",
              "IPY_MODEL_afe9a57a347c47b8b30fbd0b73035397"
            ]
          }
        },
        "31a2d78e9ac1434d8ac8a843d645039a": {
          "model_module": "@jupyter-widgets/base",
          "model_name": "LayoutModel",
          "model_module_version": "1.2.0",
          "state": {
            "_view_name": "LayoutView",
            "grid_template_rows": null,
            "right": null,
            "justify_content": null,
            "_view_module": "@jupyter-widgets/base",
            "overflow": null,
            "_model_module_version": "1.2.0",
            "_view_count": null,
            "flex_flow": null,
            "width": null,
            "min_width": null,
            "border": null,
            "align_items": null,
            "bottom": null,
            "_model_module": "@jupyter-widgets/base",
            "top": null,
            "grid_column": null,
            "overflow_y": null,
            "overflow_x": null,
            "grid_auto_flow": null,
            "grid_area": null,
            "grid_template_columns": null,
            "flex": null,
            "_model_name": "LayoutModel",
            "justify_items": null,
            "grid_row": null,
            "max_height": null,
            "align_content": null,
            "visibility": null,
            "align_self": null,
            "height": null,
            "min_height": null,
            "padding": null,
            "grid_auto_rows": null,
            "grid_gap": null,
            "max_width": null,
            "order": null,
            "_view_module_version": "1.2.0",
            "grid_template_areas": null,
            "object_position": null,
            "object_fit": null,
            "grid_auto_columns": null,
            "margin": null,
            "display": null,
            "left": null
          }
        },
        "c3fdb386fb2e408ea0c655fa0e3d6caf": {
          "model_module": "@jupyter-widgets/controls",
          "model_name": "HTMLModel",
          "model_module_version": "1.5.0",
          "state": {
            "_view_name": "HTMLView",
            "style": "IPY_MODEL_bcac7dd0610c492ba200d9fb3fc70194",
            "_dom_classes": [],
            "description": "",
            "_model_name": "HTMLModel",
            "placeholder": "​",
            "_view_module": "@jupyter-widgets/controls",
            "_model_module_version": "1.5.0",
            "value": "",
            "_view_count": null,
            "_view_module_version": "1.5.0",
            "description_tooltip": null,
            "_model_module": "@jupyter-widgets/controls",
            "layout": "IPY_MODEL_24fb7e95ccdc47a6a67ed2fd8ea00482"
          }
        },
        "9c0ea02d76644e2d8eac57a880338c49": {
          "model_module": "@jupyter-widgets/controls",
          "model_name": "FloatProgressModel",
          "model_module_version": "1.5.0",
          "state": {
            "_view_name": "ProgressView",
            "style": "IPY_MODEL_e221d187cb574b0cb64fda505056967a",
            "_dom_classes": [],
            "description": "",
            "_model_name": "FloatProgressModel",
            "bar_style": "success",
            "max": 2918473216,
            "_view_module": "@jupyter-widgets/controls",
            "_model_module_version": "1.5.0",
            "value": 2918473216,
            "_view_count": null,
            "_view_module_version": "1.5.0",
            "orientation": "horizontal",
            "min": 0,
            "description_tooltip": null,
            "_model_module": "@jupyter-widgets/controls",
            "layout": "IPY_MODEL_5e7695f0c2a148bbae295cdd3dcdc9b2"
          }
        },
        "afe9a57a347c47b8b30fbd0b73035397": {
          "model_module": "@jupyter-widgets/controls",
          "model_name": "HTMLModel",
          "model_module_version": "1.5.0",
          "state": {
            "_view_name": "HTMLView",
            "style": "IPY_MODEL_9ae649aa97734308a462262baf72e4f9",
            "_dom_classes": [],
            "description": "",
            "_model_name": "HTMLModel",
            "placeholder": "​",
            "_view_module": "@jupyter-widgets/controls",
            "_model_module_version": "1.5.0",
            "value": " 2918473728/? [05:25&lt;00:00, 17408654.42it/s]",
            "_view_count": null,
            "_view_module_version": "1.5.0",
            "description_tooltip": null,
            "_model_module": "@jupyter-widgets/controls",
            "layout": "IPY_MODEL_c371c46742ad4041965b28da71b62999"
          }
        },
        "bcac7dd0610c492ba200d9fb3fc70194": {
          "model_module": "@jupyter-widgets/controls",
          "model_name": "DescriptionStyleModel",
          "model_module_version": "1.5.0",
          "state": {
            "_view_name": "StyleView",
            "_model_name": "DescriptionStyleModel",
            "description_width": "",
            "_view_module": "@jupyter-widgets/base",
            "_model_module_version": "1.5.0",
            "_view_count": null,
            "_view_module_version": "1.2.0",
            "_model_module": "@jupyter-widgets/controls"
          }
        },
        "24fb7e95ccdc47a6a67ed2fd8ea00482": {
          "model_module": "@jupyter-widgets/base",
          "model_name": "LayoutModel",
          "model_module_version": "1.2.0",
          "state": {
            "_view_name": "LayoutView",
            "grid_template_rows": null,
            "right": null,
            "justify_content": null,
            "_view_module": "@jupyter-widgets/base",
            "overflow": null,
            "_model_module_version": "1.2.0",
            "_view_count": null,
            "flex_flow": null,
            "width": null,
            "min_width": null,
            "border": null,
            "align_items": null,
            "bottom": null,
            "_model_module": "@jupyter-widgets/base",
            "top": null,
            "grid_column": null,
            "overflow_y": null,
            "overflow_x": null,
            "grid_auto_flow": null,
            "grid_area": null,
            "grid_template_columns": null,
            "flex": null,
            "_model_name": "LayoutModel",
            "justify_items": null,
            "grid_row": null,
            "max_height": null,
            "align_content": null,
            "visibility": null,
            "align_self": null,
            "height": null,
            "min_height": null,
            "padding": null,
            "grid_auto_rows": null,
            "grid_gap": null,
            "max_width": null,
            "order": null,
            "_view_module_version": "1.2.0",
            "grid_template_areas": null,
            "object_position": null,
            "object_fit": null,
            "grid_auto_columns": null,
            "margin": null,
            "display": null,
            "left": null
          }
        },
        "e221d187cb574b0cb64fda505056967a": {
          "model_module": "@jupyter-widgets/controls",
          "model_name": "ProgressStyleModel",
          "model_module_version": "1.5.0",
          "state": {
            "_view_name": "StyleView",
            "_model_name": "ProgressStyleModel",
            "description_width": "",
            "_view_module": "@jupyter-widgets/base",
            "_model_module_version": "1.5.0",
            "_view_count": null,
            "_view_module_version": "1.2.0",
            "bar_color": null,
            "_model_module": "@jupyter-widgets/controls"
          }
        },
        "5e7695f0c2a148bbae295cdd3dcdc9b2": {
          "model_module": "@jupyter-widgets/base",
          "model_name": "LayoutModel",
          "model_module_version": "1.2.0",
          "state": {
            "_view_name": "LayoutView",
            "grid_template_rows": null,
            "right": null,
            "justify_content": null,
            "_view_module": "@jupyter-widgets/base",
            "overflow": null,
            "_model_module_version": "1.2.0",
            "_view_count": null,
            "flex_flow": null,
            "width": null,
            "min_width": null,
            "border": null,
            "align_items": null,
            "bottom": null,
            "_model_module": "@jupyter-widgets/base",
            "top": null,
            "grid_column": null,
            "overflow_y": null,
            "overflow_x": null,
            "grid_auto_flow": null,
            "grid_area": null,
            "grid_template_columns": null,
            "flex": null,
            "_model_name": "LayoutModel",
            "justify_items": null,
            "grid_row": null,
            "max_height": null,
            "align_content": null,
            "visibility": null,
            "align_self": null,
            "height": null,
            "min_height": null,
            "padding": null,
            "grid_auto_rows": null,
            "grid_gap": null,
            "max_width": null,
            "order": null,
            "_view_module_version": "1.2.0",
            "grid_template_areas": null,
            "object_position": null,
            "object_fit": null,
            "grid_auto_columns": null,
            "margin": null,
            "display": null,
            "left": null
          }
        },
        "9ae649aa97734308a462262baf72e4f9": {
          "model_module": "@jupyter-widgets/controls",
          "model_name": "DescriptionStyleModel",
          "model_module_version": "1.5.0",
          "state": {
            "_view_name": "StyleView",
            "_model_name": "DescriptionStyleModel",
            "description_width": "",
            "_view_module": "@jupyter-widgets/base",
            "_model_module_version": "1.5.0",
            "_view_count": null,
            "_view_module_version": "1.2.0",
            "_model_module": "@jupyter-widgets/controls"
          }
        },
        "c371c46742ad4041965b28da71b62999": {
          "model_module": "@jupyter-widgets/base",
          "model_name": "LayoutModel",
          "model_module_version": "1.2.0",
          "state": {
            "_view_name": "LayoutView",
            "grid_template_rows": null,
            "right": null,
            "justify_content": null,
            "_view_module": "@jupyter-widgets/base",
            "overflow": null,
            "_model_module_version": "1.2.0",
            "_view_count": null,
            "flex_flow": null,
            "width": null,
            "min_width": null,
            "border": null,
            "align_items": null,
            "bottom": null,
            "_model_module": "@jupyter-widgets/base",
            "top": null,
            "grid_column": null,
            "overflow_y": null,
            "overflow_x": null,
            "grid_auto_flow": null,
            "grid_area": null,
            "grid_template_columns": null,
            "flex": null,
            "_model_name": "LayoutModel",
            "justify_items": null,
            "grid_row": null,
            "max_height": null,
            "align_content": null,
            "visibility": null,
            "align_self": null,
            "height": null,
            "min_height": null,
            "padding": null,
            "grid_auto_rows": null,
            "grid_gap": null,
            "max_width": null,
            "order": null,
            "_view_module_version": "1.2.0",
            "grid_template_areas": null,
            "object_position": null,
            "object_fit": null,
            "grid_auto_columns": null,
            "margin": null,
            "display": null,
            "left": null
          }
        }
      }
    }
  },
  "nbformat": 4,
  "nbformat_minor": 0
}